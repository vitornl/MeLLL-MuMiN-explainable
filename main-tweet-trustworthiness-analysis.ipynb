{
 "cells": [
  {
   "cell_type": "code",
   "execution_count": null,
   "metadata": {},
   "outputs": [],
   "source": [
    "import os\n",
    "import json\n",
    "import warnings\n",
    "import random\n",
    "import copy\n",
    "\n",
    "import dgl\n",
    "import torch\n",
    "import torch_geometric as tg\n",
    "\n",
    "import pandas as pd\n",
    "import numpy as np\n",
    "import networkx as nx\n",
    "import matplotlib.pyplot as plt\n",
    "\n",
    "import torch.nn as nn\n",
    "import torch.optim as optim\n",
    "import torch.nn.functional as F\n",
    "import dgl.nn.pytorch as dglnn\n",
    "\n",
    "from graphlime import GraphLIME\n",
    "from mumin import MuminDataset\n",
    "\n",
    "import torchmetrics as tm\n",
    "\n",
    "from tqdm.notebook import tqdm\n",
    "from collections import defaultdict\n",
    "\n",
    "from torch_geometric.data import Data as tgData\n",
    "\n",
    "from transformers import AutoModel, AutoTokenizer, AutoModelForSequenceClassification\n",
    "\n",
    "from mumin_explainable.architectures.graphs import GAT\n",
    "from mumin_explainable.processor.tweetnormalizer import normalizeTweet\n",
    "\n",
    "from dotenv import load_dotenv\n",
    "\n",
    "import mlflow\n",
    "\n",
    "\n",
    "%matplotlib inline\n",
    "\n",
    "warnings.filterwarnings('ignore')\n",
    "_= torch.manual_seed(42)"
   ]
  },
  {
   "attachments": {},
   "cell_type": "markdown",
   "metadata": {},
   "source": [
    "# Setup mumin graph"
   ]
  },
  {
   "cell_type": "code",
   "execution_count": null,
   "metadata": {},
   "outputs": [],
   "source": [
    "size= 'small'\n",
    "dataset_mumin = MuminDataset(\n",
    "    twitter_bearer_token=os.getenv('TWITTER_BEARER_TOKEN'),\n",
    "    size=size,\n",
    "    dataset_path=f'./data/datasets/mumin-{size}.zip'\n",
    ")\n",
    "dataset_mumin.compile()\n",
    "mumin_graph = dataset_mumin.to_dgl()\n",
    "mumin_graph"
   ]
  },
  {
   "attachments": {},
   "cell_type": "markdown",
   "metadata": {},
   "source": [
    "# Setup subgraph"
   ]
  },
  {
   "cell_type": "code",
   "execution_count": null,
   "metadata": {},
   "outputs": [],
   "source": [
    "user_df = dataset_mumin.nodes['user']\n",
    "tweet_df = dataset_mumin.nodes['tweet']\n",
    "\n",
    "user_posted_tweet_df = dataset_mumin.rels[('user', 'posted', 'tweet')]\n",
    "user_posted_tweet_subgraph = dgl.edge_type_subgraph(mumin_graph, etypes=[('user', 'posted', 'tweet')])"
   ]
  },
  {
   "attachments": {},
   "cell_type": "markdown",
   "metadata": {},
   "source": [
    "## Filter language"
   ]
  },
  {
   "cell_type": "code",
   "execution_count": null,
   "metadata": {},
   "outputs": [],
   "source": [
    "LANG = 'multilingual'\n",
    "tweet_ds_copy = dataset_mumin.nodes['tweet'].dropna()\n",
    "lang_tweets = (tweet_ds_copy['lang'] == LANG).to_list()\n",
    "del(tweet_ds_copy)\n",
    "\n",
    "if LANG == 'multilingual':\n",
    "    lang_tweets = [True] * len(lang_tweets)\n",
    "tweet_train_mask = user_posted_tweet_subgraph.nodes['tweet'].data['train_mask'] & torch.tensor(lang_tweets)\n",
    "tweet_val_mask = user_posted_tweet_subgraph.nodes['tweet'].data['val_mask'] & torch.tensor(lang_tweets)\n",
    "tweet_test_mask = user_posted_tweet_subgraph.nodes['tweet'].data['test_mask'] & torch.tensor(lang_tweets)"
   ]
  },
  {
   "attachments": {},
   "cell_type": "markdown",
   "metadata": {},
   "source": [
    "# Setup dataset"
   ]
  },
  {
   "cell_type": "code",
   "execution_count": null,
   "metadata": {},
   "outputs": [],
   "source": [
    "edges_index = torch.cat([\n",
    "    user_posted_tweet_subgraph.edges(etype='posted')[0].unsqueeze(0),\n",
    "    user_posted_tweet_subgraph.edges(etype='posted')[1].unsqueeze(0)\n",
    "], dim=0)\n",
    "data = tgData(\n",
    "    x=user_posted_tweet_subgraph.nodes['tweet'].data['feat'],\n",
    "    y=user_posted_tweet_subgraph.nodes['tweet'].data['label'],\n",
    "    train_mask=tweet_train_mask,\n",
    "    val_mask=tweet_val_mask,\n",
    "    test_mask=tweet_test_mask,\n",
    "    edge_index=edges_index.long())"
   ]
  },
  {
   "cell_type": "markdown",
   "metadata": {},
   "source": [
    "# Enhance with text-based features"
   ]
  },
  {
   "cell_type": "code",
   "execution_count": null,
   "metadata": {},
   "outputs": [],
   "source": [
    "from transformers import AutoModelForSequenceClassification\n",
    "\n",
    "TEXT_DIM = 100\n",
    "\n",
    "LANG_TOOL_MAP = {\n",
    "    'multilingual': {\n",
    "        'bertweet': AutoModel.from_pretrained('vinai/bertweet-base'),\n",
    "        'tokenizer': AutoTokenizer.from_pretrained('vinai/bertweet-base', use_fast=False)\n",
    "    },\n",
    "    'en': {\n",
    "        'bertweet': AutoModel.from_pretrained('vinai/bertweet-base'),\n",
    "        'tokenizer': AutoTokenizer.from_pretrained('vinai/bertweet-base', use_fast=False)\n",
    "    },\n",
    "    'pt': {\n",
    "        'bertweet': AutoModel.from_pretrained('melll-uff/bertweetbr'),\n",
    "        'tokenizer': AutoTokenizer.from_pretrained('melll-uff/bertweetbr', normalization=True)\n",
    "    },\n",
    "    'es': {\n",
    "        'bertweet': AutoModel.from_pretrained('pysentimiento/robertuito-base-cased'),\n",
    "        'tokenizer': AutoTokenizer.from_pretrained('pysentimiento/robertuito-base-cased')\n",
    "    }\n",
    "}\n",
    "\n",
    "bertweet = LANG_TOOL_MAP[LANG]['bertweet']\n",
    "tokenizer = LANG_TOOL_MAP[LANG]['tokenizer']\n",
    "\n",
    "def tweetencoder(x, text_dim):\n",
    "    try:\n",
    "        x = bertweet(torch.tensor([tokenizer.encode(normalizeTweet(x))])).pooler_output\n",
    "    except:\n",
    "        x = bertweet(torch.tensor([tokenizer.encode('')])).pooler_output\n",
    "    return nn.Linear(768, text_dim)(x).tolist()[0]"
   ]
  },
  {
   "cell_type": "code",
   "execution_count": null,
   "metadata": {},
   "outputs": [],
   "source": [
    "tweet_df['text_encoding'] = str([0] * TEXT_DIM)\n",
    "if LANG == 'multilingual':\n",
    "    tweet_df['text_encoding'] = [tweetencoder(text, TEXT_DIM) for text in tweet_df['text']]\n",
    "else:\n",
    "    tweet_df['text_encoding'] = [tweetencoder(text, TEXT_DIM) if lang == LANG else str([0] * TEXT_DIM) for text,lang in zip(tweet_df['text'], tweet_df['lang'])]"
   ]
  },
  {
   "cell_type": "code",
   "execution_count": null,
   "metadata": {},
   "outputs": [],
   "source": [
    "new_embedding_columns = [f'emb{i}' for i in range(TEXT_DIM)]\n",
    "\n",
    "tweet_embeddings_split_df = pd.DataFrame(\n",
    "    [x if not isinstance(x, str) else eval(x) for x in tweet_df['text_encoding'].tolist()],\n",
    "    index=tweet_df.index,\n",
    "    columns=new_embedding_columns\n",
    ")\n",
    "tweet_df = pd.concat([tweet_df, tweet_embeddings_split_df], axis=1)\n",
    "tweet_df.dropna(inplace=True)\n",
    "display(tweet_df)"
   ]
  },
  {
   "cell_type": "code",
   "execution_count": null,
   "metadata": {},
   "outputs": [],
   "source": [
    "MODE = 'multimodal'\n",
    "\n",
    "new_features_df = pd.DataFrame(index=range(user_posted_tweet_subgraph.nodes['tweet'].data['feat'].shape[0]))\n",
    "new_features_df = new_features_df.join(tweet_df[new_embedding_columns])#.fillna(0)\n",
    "new_features_tensor = torch.tensor(new_features_df.values).double()\n",
    "\n",
    "mixed_features = new_features_tensor\n",
    "if MODE == 'multimodal':\n",
    "    mixed_features = torch.cat([user_posted_tweet_subgraph.nodes['tweet'].data['feat'], new_features_tensor], axis = 1).double()\n",
    "\n",
    "edges_index = torch.cat([\n",
    "    user_posted_tweet_subgraph.edges(etype='posted')[0].unsqueeze(0),\n",
    "    user_posted_tweet_subgraph.edges(etype='posted')[1].unsqueeze(0)\n",
    "], dim=0)\n",
    "new_features_data = tgData(\n",
    "    x=mixed_features,\n",
    "    y=user_posted_tweet_subgraph.nodes['tweet'].data['label'],\n",
    "    train_mask=user_posted_tweet_subgraph.nodes['tweet'].data['train_mask'] & torch.tensor(lang_tweets),\n",
    "    val_mask=user_posted_tweet_subgraph.nodes['tweet'].data['val_mask'] & torch.tensor(lang_tweets),\n",
    "    test_mask=user_posted_tweet_subgraph.nodes['tweet'].data['test_mask'] & torch.tensor(lang_tweets),\n",
    "    edge_index=edges_index.long())"
   ]
  },
  {
   "attachments": {},
   "cell_type": "markdown",
   "metadata": {},
   "source": [
    "# Trustworthy?"
   ]
  },
  {
   "cell_type": "code",
   "execution_count": null,
   "metadata": {},
   "outputs": [],
   "source": [
    "# new_features_data_x_mim = torch.ones((new_features_data.x.shape[0], new_features_data.x.shape[1], 2))\n",
    "# new_features_data_x_mim[:,:,0] = new_features_data.x\n",
    "# new_features_data_x_mim.shape"
   ]
  },
  {
   "cell_type": "code",
   "execution_count": null,
   "metadata": {},
   "outputs": [],
   "source": [
    "hparams = {\n",
    "    'input_dim': new_features_data.num_node_features,\n",
    "    'hidden_dim': 16,\n",
    "    'output_dim': max(new_features_data.y).item() + 1\n",
    "}\n",
    "\n",
    "model = GAT(**hparams).double()\n",
    "\n",
    "MODEL_NAME = f'multilingual_multimodal'\n",
    "\n",
    "model.load_state_dict(torch.load(f'./data/models/{MODEL_NAME}.pth'))\n",
    "model.eval()\n",
    "\n",
    "print('test original_features')\n",
    "\n",
    "original_features_classification_output = model(new_features_data.x, new_features_data.edge_index)\n",
    "probas = original_features_classification_output.exp()\n",
    "original_pred_label = torch.argmax(probas, dim=1)"
   ]
  },
  {
   "attachments": {},
   "cell_type": "markdown",
   "metadata": {},
   "source": [
    "## Filter features"
   ]
  },
  {
   "cell_type": "code",
   "execution_count": null,
   "metadata": {},
   "outputs": [],
   "source": [
    "trustworthy_features_list = random.sample(range(new_features_data.x.shape[1]), k=int(new_features_data.x.shape[1] * 0.7))\n",
    "untrustworthy_features_list = [i for i in range(new_features_data.x.shape[1]) if i not in trustworthy_features_list]\n",
    "\n",
    "# trustworthy_features_mask = torch.zeros(new_features_data.x.shape[1], dtype=torch.bool)\n",
    "# untrustworthy_features_mask = torch.zeros(new_features_data.x.shape[1], dtype=torch.bool)\n",
    "# trustworthy_features_mask[trustworthy_features_list] = True\n",
    "# untrustworthy_features_mask[untrustworthy_features_list] = True\n",
    "\n",
    "# trustworthy_features = new_features_data.x[:, trustworthy_features_list]\n",
    "# untrustworthy_features = new_features_data.x[:, untrustworthy_features_list]\n",
    "\n",
    "untrustworthy_features = copy.deepcopy(new_features_data.x)\n",
    "untrustworthy_features[:,untrustworthy_features_list] = 0\n",
    "\n",
    "untrustworthy_features_data = tgData(\n",
    "    x=untrustworthy_features,\n",
    "    y=user_posted_tweet_subgraph.nodes['tweet'].data['label'],\n",
    "    train_mask=user_posted_tweet_subgraph.nodes['tweet'].data['train_mask'] & torch.tensor(lang_tweets),\n",
    "    val_mask=user_posted_tweet_subgraph.nodes['tweet'].data['val_mask'] & torch.tensor(lang_tweets),\n",
    "    test_mask=user_posted_tweet_subgraph.nodes['tweet'].data['test_mask'] & torch.tensor(lang_tweets),\n",
    "    edge_index=edges_index.long())"
   ]
  },
  {
   "cell_type": "markdown",
   "metadata": {},
   "source": [
    "### test mask"
   ]
  },
  {
   "cell_type": "code",
   "execution_count": null,
   "metadata": {},
   "outputs": [],
   "source": [
    "original_preds = torch.argmax(model(new_features_data.x, new_features_data.edge_index)[new_features_data.test_mask].exp(), dim=1)\n",
    "untrustworthy_preds = torch.argmax(model(untrustworthy_features_data.x, untrustworthy_features_data.edge_index)[untrustworthy_features_data.test_mask].exp(), dim=1)"
   ]
  },
  {
   "cell_type": "markdown",
   "metadata": {},
   "source": [
    "### no mask"
   ]
  },
  {
   "cell_type": "code",
   "execution_count": null,
   "metadata": {},
   "outputs": [],
   "source": [
    "original_preds = torch.argmax(model(new_features_data.x, new_features_data.edge_index).exp(), dim=1)\n",
    "untrustworthy_preds = torch.argmax(model(untrustworthy_features_data.x, untrustworthy_features_data.edge_index).exp(), dim=1)"
   ]
  },
  {
   "cell_type": "code",
   "execution_count": null,
   "metadata": {},
   "outputs": [],
   "source": [
    "flipped_preds_size = []\n",
    "mistrust_idx = np.argwhere(original_preds != untrustworthy_preds).flatten()\n",
    "print(f'Number of suspect predictions {len(mistrust_idx)}')\n",
    "shouldnt_trust = set(mistrust_idx)\n",
    "flipped_preds_size.append(len(shouldnt_trust))"
   ]
  },
  {
   "cell_type": "code",
   "execution_count": null,
   "metadata": {},
   "outputs": [],
   "source": [
    "import collections\n",
    "mistrust = collections.defaultdict(lambda:set())\n",
    "trust = collections.defaultdict(lambda: set())\n",
    "trust_fn = lambda prev, curr: (prev > 0.5 and curr > 0.5) or (prev <= 0.5 and curr <= 0.5)\n",
    "trust_fn_all = lambda exp, unt: len([x[0] for x in exp if x[0] in unt]) == 0\n",
    "\n",
    "graphlime = GraphLIME(model, hop=2, rho=0.1, cached=True)"
   ]
  },
  {
   "cell_type": "code",
   "execution_count": null,
   "metadata": {},
   "outputs": [],
   "source": [
    "topk = 100\n",
    "num_noise_feats = []\n",
    "\n",
    "for i in range(new_features_data.x.shape[0]):\n",
    "    \n",
    "    coefs_originals = graphlime.explain_node(i, untrustworthy_features_data.x, untrustworthy_features_data.edge_index)\n",
    "    coefs_originals = np.abs(coefs_originals)\n",
    "\n",
    "    coefs_untrust = graphlime.explain_node(i, untrustworthy_features_data.x, untrustworthy_features_data.edge_index)\n",
    "    coefs_untrust = np.abs(coefs_untrust)\n",
    "\n",
    "    ### debug\n",
    "    if np.where(coefs_originals != 0)[0] != []:\n",
    "        print(feat_indices)\n",
    "        print(num_noise_feat)\n",
    "        print([untrustworthy_features_data.x.shape[0] for idx in feat_indices])"
   ]
  },
  {
   "cell_type": "code",
   "execution_count": null,
   "metadata": {},
   "outputs": [],
   "source": [
    "list(filter(lambda x: x != 0, num_noise_feats))"
   ]
  },
  {
   "cell_type": "code",
   "execution_count": null,
   "metadata": {},
   "outputs": [],
   "source": [
    "mistrust_idx.shape, untrustworthy_features_data.x.shape, new_features_data.x.shape"
   ]
  },
  {
   "cell_type": "code",
   "execution_count": null,
   "metadata": {},
   "outputs": [],
   "source": [
    "mistrust_idx"
   ]
  },
  {
   "cell_type": "code",
   "execution_count": null,
   "metadata": {},
   "outputs": [],
   "source": [
    "shouldnt_trust = set(mistrust_idx)"
   ]
  },
  {
   "cell_type": "code",
   "execution_count": null,
   "metadata": {},
   "outputs": [],
   "source": [
    "shouldnt_trust"
   ]
  },
  {
   "cell_type": "markdown",
   "metadata": {},
   "source": [
    "# ignore below"
   ]
  },
  {
   "cell_type": "code",
   "execution_count": null,
   "metadata": {},
   "outputs": [],
   "source": [
    "model_filtered.load_state_dict(torch.load(f'./data/models/{MODEL_NAME}.pth'))\n",
    "model_filtered.eval()\n",
    "\n",
    "accuracy = tm.Accuracy(task='multiclass', num_classes=2, average='none')\n",
    "stats_score = tm.StatScores(task='multiclass', num_classes=2, average='none')\n",
    "precision = tm.Precision(task='multiclass', num_classes=2, average='none')\n",
    "recall = tm.Recall(task='multiclass', num_classes=2, average='none')\n",
    "f1_score = tm.classification.f_beta.F1Score(task='multiclass', num_classes=2, average='none')\n",
    "\n",
    "print('test')\n",
    "\n",
    "output = model_filtered(trustworthy_features_data.x, trustworthy_features_data.edge_index)\n",
    "\n",
    "f1 = f1_score(output[trustworthy_features_data.test_mask], trustworthy_features_data.y[trustworthy_features_data.test_mask])\n",
    "f1macro = torch.mean(f1)\n",
    "\n",
    "metrics = {\n",
    "    'Accuracy': accuracy(output[trustworthy_features_data.test_mask], trustworthy_features_data.y[trustworthy_features_data.test_mask]),\n",
    "    'Precision': precision(output[new_features_data.test_mask], trustworthy_features_data.y[trustworthy_features_data.test_mask]),\n",
    "    'Recall': recall(output[trustworthy_features_data.test_mask], trustworthy_features_data.y[trustworthy_features_data.test_mask]),\n",
    "    'Stats_Score': stats_score(output[trustworthy_features_data.test_mask], trustworthy_features_data.y[trustworthy_features_data.test_mask]),\n",
    "    'F1': f1,\n",
    "    'F1-macro': f1macro,\n",
    "    'Bootstrap': bootstrap.compute()\n",
    "}\n",
    "\n",
    "print(metrics)"
   ]
  },
  {
   "cell_type": "code",
   "execution_count": null,
   "metadata": {},
   "outputs": [],
   "source": [
    "MODEL_NAME = f'{LANG}_{MODE}_filtered'\n",
    "\n",
    "model_filtered.load_state_dict(torch.load(f'./data/models/{MODEL_NAME}.pth'))\n",
    "model_filtered.eval()\n",
    "\n",
    "print('test trustworthy_features')\n",
    "\n",
    "trustworthy_features_classification_output = model_filtered(trustworthy_features_data.x, trustworthy_features_data.edge_index)\n",
    "trustworthy_pred_label = torch.argmax(trustworthy_features_classification_output.exp(), dim=1)"
   ]
  },
  {
   "cell_type": "code",
   "execution_count": null,
   "metadata": {},
   "outputs": [],
   "source": [
    "np.where((original_pred_label == trustworthy_pred_label).numpy() == False)[0].shape, np.where((original_pred_label == trustworthy_pred_label).numpy() == True)[0].shape"
   ]
  },
  {
   "cell_type": "code",
   "execution_count": null,
   "metadata": {},
   "outputs": [],
   "source": [
    "explainer_original = GraphLIME(model, hop=2, rho=0.1, cached=True)\n",
    "explainer_filtered = GraphLIME(model_filtered, hop=2, rho=0.1, cached=True)\n",
    "\n",
    "count_untrustworthy = 0\n",
    "for i in list(np.stack(np.argwhere((original_pred_label == trustworthy_pred_label).numpy() == False),axis=1)[0]):\n",
    "    \n",
    "    coefs_original = explainer_original.explain_node(int(i), new_features_data.x, new_features_data.edge_index)\n",
    "    coefs_filtered = explainer_filtered.explain_node(int(i), trustworthy_features_data.x, trustworthy_features_data.edge_index)\n",
    "    \n",
    "    count_untrustworthy += 1 if np.where(coefs_original != 0)[0].shape == np.where(coefs_filtered != 0)[0].shape else 0\n",
    "\n",
    "count_trustworthy = int(np.stack(np.argwhere((original_pred_label == trustworthy_pred_label).numpy() == False),axis=1)[0].shape[0]) - count_untrustworthy\n",
    "print(count_untrustworthy, count_trustworthy)\n",
    "\n",
    "100 - count_untrustworthy/len(original_pred_label)*100, 100 - count_trustworthy/len(original_pred_label)*100"
   ]
  },
  {
   "cell_type": "code",
   "execution_count": null,
   "metadata": {},
   "outputs": [],
   "source": [
    "explainer_original = GraphLIME(model, hop=2, rho=0.1, cached=True)\n",
    "\n",
    "with open('count_untrustworthy.txt', 'w') as f:\n",
    "    f.write('idx,count_untrustworthy,count_trustworthy\\n')\n",
    "\n",
    "MODEL_NAME = f'{LANG}_{MODE}_filtered'\n",
    "lr = 0.005\n",
    "epochs = 400\n",
    "MAX_SAMPLES = 100\n",
    "\n",
    "for sample_iter in tqdm(range(MAX_SAMPLES)):\n",
    "    trustworthy_features_list = random.sample(range(new_features_data.x.shape[1]), k=int(new_features_data.x.shape[1] * 0.7))\n",
    "    untrustworthy_features_list = [i for i in range(new_features_data.x.shape[1]) if i not in trustworthy_features_list]\n",
    "\n",
    "    trustworthy_features = new_features_data.x[:, trustworthy_features_list]\n",
    "    untrustworthy_features = new_features_data.x[:, untrustworthy_features_list]\n",
    "\n",
    "    trustworthy_features_data = tgData(\n",
    "        x=trustworthy_features,\n",
    "        y=user_posted_tweet_subgraph.nodes['tweet'].data['label'],\n",
    "        train_mask=user_posted_tweet_subgraph.nodes['tweet'].data['train_mask'] & torch.tensor(lang_tweets),\n",
    "        val_mask=user_posted_tweet_subgraph.nodes['tweet'].data['val_mask'] & torch.tensor(lang_tweets),\n",
    "        test_mask=user_posted_tweet_subgraph.nodes['tweet'].data['test_mask'] & torch.tensor(lang_tweets),\n",
    "        edge_index=edges_index.long())\n",
    "\n",
    "    hparams = {\n",
    "        'input_dim': trustworthy_features_data.num_node_features,\n",
    "        'hidden_dim': 16,\n",
    "        'output_dim': max(trustworthy_features_data.y).item() + 1\n",
    "    }\n",
    "\n",
    "    model_filtered = GAT(**hparams).double()\n",
    "\n",
    "    model_filtered.train()\n",
    "    optimizer = optim.Adam(model_filtered.parameters(), lr=lr)\n",
    "\n",
    "    f1_score = tm.classification.f_beta.F1Score(task='multiclass', num_classes=2, average='none')\n",
    "    best_f1macro = -1\n",
    "\n",
    "    for epoch in range(epochs):\n",
    "        optimizer.zero_grad()\n",
    "        \n",
    "        output = model_filtered(trustworthy_features_data.x, trustworthy_features_data.edge_index)\n",
    "        loss = F.nll_loss(output[trustworthy_features_data.train_mask], trustworthy_features_data.y[trustworthy_features_data.train_mask])\n",
    "        \n",
    "        loss.backward()\n",
    "        optimizer.step()\n",
    "        \n",
    "        f1 = f1_score(output[trustworthy_features_data.train_mask], trustworthy_features_data.y[trustworthy_features_data.train_mask])\n",
    "        f1macro = torch.mean(f1)\n",
    "\n",
    "        if f1macro > best_f1macro:\n",
    "            best_f1macro = f1macro\n",
    "            torch.save(model_filtered.state_dict(), f'./data/models/{MODEL_NAME}.pth')\n",
    "\n",
    "    model_filtered.eval()\n",
    "\n",
    "    trustworthy_features_classification_output = model_filtered(trustworthy_features_data.x, trustworthy_features_data.edge_index)\n",
    "    trustworthy_pred_label = torch.argmax(trustworthy_features_classification_output.exp(), dim=1)\n",
    "\n",
    "    explainer_filtered = GraphLIME(model_filtered, hop=2, rho=0.1, cached=True)\n",
    "\n",
    "    count_untrustworthy = 0\n",
    "    for i in list(np.stack(np.argwhere((original_pred_label == trustworthy_pred_label).numpy() == False),axis=1)[0]):\n",
    "        \n",
    "        coefs_original = explainer_original.explain_node(int(i), new_features_data.x, new_features_data.edge_index)\n",
    "        coefs_filtered = explainer_filtered.explain_node(int(i), trustworthy_features_data.x, trustworthy_features_data.edge_index)\n",
    "        \n",
    "        count_untrustworthy += 1 if np.where(coefs_original != 0)[0].shape == np.where(coefs_filtered != 0)[0].shape else 0\n",
    "\n",
    "    count_trustworthy = int(np.stack(np.argwhere((original_pred_label == trustworthy_pred_label).numpy() == False),axis=1)[0].shape[0]) - count_untrustworthy\n",
    "\n",
    "    result_count_untrustworthy = 100 - count_untrustworthy/len(original_pred_label)\n",
    "    result_count_trustworthy = 100 - count_trustworthy/len(original_pred_label)\n",
    "    with open('count_untrustworthy.txt', 'a') as f:\n",
    "        f.write(f'{sample_iter},{result_count_untrustworthy},{result_count_trustworthy}\\n')\n",
    "\n",
    "f.close()"
   ]
  },
  {
   "cell_type": "code",
   "execution_count": null,
   "metadata": {},
   "outputs": [],
   "source": []
  },
  {
   "cell_type": "code",
   "execution_count": null,
   "metadata": {},
   "outputs": [],
   "source": []
  },
  {
   "cell_type": "code",
   "execution_count": null,
   "metadata": {},
   "outputs": [],
   "source": [
    "coefs_original = explainer_original.explain_node(25, new_features_data.x, new_features_data.edge_index)\n",
    "coefs_filtered = explainer_filtered.explain_node(25, trustworthy_features_data.x, trustworthy_features_data.edge_index)"
   ]
  },
  {
   "cell_type": "code",
   "execution_count": null,
   "metadata": {},
   "outputs": [],
   "source": [
    "np.where(coefs_original != 0)[0].shape == np.where(coefs_filtered != 0)[0].shape"
   ]
  },
  {
   "cell_type": "code",
   "execution_count": null,
   "metadata": {},
   "outputs": [],
   "source": [
    "explainer = GraphLIME(model, hop=2, rho=0.1, cached=True)\n",
    "\n",
    "for i in new_features_data.test_mask.nonzero().view(-1).tolist():\n",
    "    coefs = explainer.explain_node(i, new_features_data.x, new_features_data.edge_index)\n",
    "    if np.where(coefs != 0)[0].tolist() != []:\n",
    "        print(i)\n",
    "        print(coefs)\n",
    "        break"
   ]
  },
  {
   "cell_type": "code",
   "execution_count": null,
   "metadata": {},
   "outputs": [],
   "source": [
    "explainer = GraphLIME(model, hop=2, rho=0.1, cached=False)\n",
    "\n",
    "probas = model(new_features_data.x, new_features_data.edge_index).exp()\n",
    "coefs = explainer.explain_node(2, new_features_data.x, new_features_data.edge_index)\n",
    "print(coefs, len(coefs))\n",
    "print(np.where(coefs != 0))\n",
    "np.where(coefs != 0)\n"
   ]
  },
  {
   "cell_type": "code",
   "execution_count": null,
   "metadata": {},
   "outputs": [],
   "source": [
    "# list(tweet_df[tweet_df['lang'] == 'pt'].index)"
   ]
  },
  {
   "cell_type": "code",
   "execution_count": null,
   "metadata": {},
   "outputs": [],
   "source": [
    "explainer = GraphLIME(model, hop=2, rho=0.1, cached=True)\n",
    "\n",
    "# for node_idx in range(data.x.shape[0]):\n",
    "#     coefs = explainer.explain_node(node_idx, data.x, data.edge_index)\n",
    "#     if len(set(np.where(coefs != 0)[0]).intersection(set([3,4,5]))) != 0:\n",
    "#         print(node_idx)\n",
    "\n",
    "# try: 102 | 118 | 127\n",
    "node_idx = 91\n",
    "\n",
    "probas = model(new_features_data.x, new_features_data.edge_index).exp()\n",
    "print(probas[node_idx], torch.argmax(probas[node_idx]).item())\n",
    "coefs = explainer.explain_node(node_idx, new_features_data.x, new_features_data.edge_index)\n",
    "\n",
    "print(coefs, len(coefs))\n",
    "print(np.where(coefs != 0))"
   ]
  },
  {
   "cell_type": "code",
   "execution_count": null,
   "metadata": {},
   "outputs": [],
   "source": [
    "k = 91\n",
    "print(tweet_df.loc[k].text)\n",
    "tweet_df.loc[k]"
   ]
  },
  {
   "cell_type": "code",
   "execution_count": null,
   "metadata": {},
   "outputs": [],
   "source": [
    "tweet_df = dataset_mumin.nodes['tweet']\n",
    "claim_df = dataset_mumin.nodes['claim']\n",
    "x = dataset_mumin.rels[('tweet', 'discusses', 'claim')]\n",
    "y = (tweet_df.merge(x, left_index=True, right_on='src')\n",
    "                          .merge(claim_df, left_on='tgt', right_index=True)\n",
    "                          .reset_index(drop=True))\n",
    "\n",
    "y[y['tweet_id'] == 1334273990039375876]"
   ]
  },
  {
   "cell_type": "code",
   "execution_count": null,
   "metadata": {},
   "outputs": [],
   "source": [
    "tweet_df = dataset_mumin.nodes['tweet']\n",
    "reply_df = dataset_mumin.nodes['reply']\n",
    "reply_quoteof_tweet_df = dataset_mumin.rels[('reply', 'reply_to', 'tweet')]\n",
    "reply_quoteof_tweet_df = (reply_df.merge(quote_of_df, left_index=True, right_on='src')\n",
    "                        .merge(tweet_df, left_on='tgt', right_index=True)\n",
    "                        .reset_index(drop=True))\n",
    "\n",
    "reply_quoteof_tweet_df[reply_quoteof_tweet_df['tweet_id_y'] == 1334273990039375876]"
   ]
  },
  {
   "cell_type": "code",
   "execution_count": null,
   "metadata": {},
   "outputs": [],
   "source": [
    "from transformers_interpret import SequenceClassificationExplainer, MultiLabelClassificationExplainer\n",
    "# cls_explainer = SequenceClassificationExplainer(bertweet,tokenizer)\n",
    "cls_explainer = SequenceClassificationExplainer(bertweet,tokenizer)"
   ]
  },
  {
   "cell_type": "code",
   "execution_count": null,
   "metadata": {},
   "outputs": [],
   "source": [
    "word_attributions = cls_explainer(normalizeTweet(tweet_df.loc[127].text))"
   ]
  },
  {
   "cell_type": "code",
   "execution_count": null,
   "metadata": {},
   "outputs": [],
   "source": [
    "cls_explainer.predicted_class_name"
   ]
  },
  {
   "cell_type": "code",
   "execution_count": null,
   "metadata": {},
   "outputs": [],
   "source": [
    "cls_explainer.visualize()"
   ]
  },
  {
   "cell_type": "code",
   "execution_count": null,
   "metadata": {},
   "outputs": [],
   "source": [
    "word_attributions = cls_explainer(normalizeTweet('Head of Pfizer Research: Covid Vaccine is Female Sterilization – Health and Money News https://t.co/IDRLSVmkLz'))"
   ]
  },
  {
   "cell_type": "code",
   "execution_count": null,
   "metadata": {},
   "outputs": [],
   "source": [
    "cls_explainer.visualize()"
   ]
  },
  {
   "cell_type": "code",
   "execution_count": null,
   "metadata": {},
   "outputs": [],
   "source": [
    "bertweet = AutoModelForSequenceClassification.from_pretrained(\"vinai/bertweet-base\", num_labels=2)\n",
    "F.softmax(bertweet(torch.tensor([tokenizer.encode(normalizeTweet('my favourite text'))])).logits)"
   ]
  },
  {
   "cell_type": "code",
   "execution_count": null,
   "metadata": {},
   "outputs": [],
   "source": [
    "F.softmax(bertweet(torch.tensor([tokenizer.encode(normalizeTweet('my favourite text'))])).logits, dim=1)"
   ]
  },
  {
   "cell_type": "code",
   "execution_count": null,
   "metadata": {},
   "outputs": [],
   "source": [
    "cls_explainer = SequenceClassificationExplainer(bertweet,tokenizer)"
   ]
  },
  {
   "cell_type": "code",
   "execution_count": null,
   "metadata": {},
   "outputs": [],
   "source": [
    "word_attributions = cls_explainer(normalizeTweet(tweet_df.loc[102].text))\n",
    "cls_explainer.visualize()"
   ]
  },
  {
   "cell_type": "code",
   "execution_count": null,
   "metadata": {},
   "outputs": [],
   "source": [
    "dataset_mumin.nodes['claim'].loc[0]['embedding'].shape"
   ]
  },
  {
   "cell_type": "code",
   "execution_count": null,
   "metadata": {},
   "outputs": [],
   "source": [
    "dataset_mumin.nodes['tweet']"
   ]
  },
  {
   "cell_type": "code",
   "execution_count": null,
   "metadata": {},
   "outputs": [],
   "source": [
    "bertweet.config.id2label"
   ]
  },
  {
   "cell_type": "code",
   "execution_count": null,
   "metadata": {},
   "outputs": [],
   "source": [
    "tweet_discusses_claim_df"
   ]
  },
  {
   "cell_type": "code",
   "execution_count": null,
   "metadata": {},
   "outputs": [],
   "source": [
    "dataset_mumin.nodes['claim']"
   ]
  },
  {
   "cell_type": "code",
   "execution_count": null,
   "metadata": {},
   "outputs": [],
   "source": []
  }
 ],
 "metadata": {
  "kernelspec": {
   "display_name": "Python 3.8.13 ('melll')",
   "language": "python",
   "name": "python3"
  },
  "language_info": {
   "codemirror_mode": {
    "name": "ipython",
    "version": 3
   },
   "file_extension": ".py",
   "mimetype": "text/x-python",
   "name": "python",
   "nbconvert_exporter": "python",
   "pygments_lexer": "ipython3",
   "version": "3.10.11"
  },
  "orig_nbformat": 4,
  "vscode": {
   "interpreter": {
    "hash": "be8229d8c53a846cb6a0684c036bbbb9278b7b274400c064f315ff8f5b01068c"
   }
  }
 },
 "nbformat": 4,
 "nbformat_minor": 2
}
