{
 "cells": [
  {
   "cell_type": "code",
   "execution_count": null,
   "metadata": {},
   "outputs": [],
   "source": [
    "import os\n",
    "\n",
    "import dgl\n",
    "import torch\n",
    "import torch_geometric as tg\n",
    "\n",
    "import pandas as pd\n",
    "import numpy as np\n",
    "import networkx as nx\n",
    "import matplotlib.pyplot as plt\n",
    "\n",
    "import torch.nn as nn\n",
    "import torch.optim as optim\n",
    "import torch.nn.functional as F\n",
    "import dgl.nn.pytorch as dglnn\n",
    "\n",
    "from graphlime import GraphLIME\n",
    "from mumin import MuminDataset\n",
    "\n",
    "import torchmetrics as tm\n",
    "\n",
    "from tqdm.notebook import tqdm\n",
    "from collections import defaultdict\n",
    "\n",
    "from torch_geometric.data import Data as tgData\n",
    "\n",
    "from transformers import AutoModel, AutoTokenizer, AutoModelForSequenceClassification\n",
    "\n",
    "from mumin_explainable.architectures.graphs import GAT\n",
    "from mumin_explainable.processor.tweetnormalizer import normalizeTweet\n",
    "\n",
    "from dotenv import load_dotenv\n",
    "\n",
    "%matplotlib inline\n",
    "\n",
    "_= torch.manual_seed(42)"
   ]
  },
  {
   "cell_type": "markdown",
   "metadata": {},
   "source": [
    "# Setup mumin graph"
   ]
  },
  {
   "cell_type": "code",
   "execution_count": null,
   "metadata": {},
   "outputs": [],
   "source": [
    "size= 'small'\n",
    "\n",
    "dataset_mumin = MuminDataset(\n",
    "    twitter_bearer_token=os.getenv('TWITTER_BEARER_TOKEN'),\n",
    "    size=size,\n",
    "    dataset_path=f'./data/datasets/mumin-{size}.zip'\n",
    ")\n",
    "dataset_mumin.compile()\n",
    "mumin_graph = dataset_mumin.to_dgl()\n",
    "mumin_graph"
   ]
  },
  {
   "cell_type": "code",
   "execution_count": null,
   "metadata": {},
   "outputs": [],
   "source": [
    "plt.figure(figsize=(10, 7))\n",
    "metagraph = mumin_graph.metagraph()\n",
    "nx.draw_networkx(metagraph, \n",
    "                 pos=nx.shell_layout(metagraph), \n",
    "                 node_color='white', \n",
    "                 node_size=3000,\n",
    "                 arrows=False)"
   ]
  },
  {
   "cell_type": "code",
   "execution_count": null,
   "metadata": {},
   "outputs": [],
   "source": [
    "claim_df = dataset_mumin.nodes['claim']\n",
    "tweet_df = dataset_mumin.nodes['tweet']\n",
    "\n",
    "tweet_discusses_claim_df = dataset_mumin.rels[('tweet', 'discusses', 'claim')]"
   ]
  },
  {
   "cell_type": "markdown",
   "metadata": {},
   "source": [
    "# Setup subgraph"
   ]
  },
  {
   "cell_type": "code",
   "execution_count": null,
   "metadata": {},
   "outputs": [],
   "source": [
    "tweet_discusses_claim_subgraph = dgl.edge_type_subgraph(mumin_graph, etypes=[('tweet', 'discusses', 'claim')])"
   ]
  },
  {
   "attachments": {},
   "cell_type": "markdown",
   "metadata": {},
   "source": [
    "## Filter language"
   ]
  },
  {
   "cell_type": "code",
   "execution_count": null,
   "metadata": {},
   "outputs": [],
   "source": [
    "LANG = 'multilingual'\n",
    "claim_ds_copy = dataset_mumin.nodes['claim'].dropna()\n",
    "lang_claim = (claim_ds_copy['language'] == LANG).to_list()\n",
    "del(claim_ds_copy)"
   ]
  },
  {
   "cell_type": "code",
   "execution_count": null,
   "metadata": {},
   "outputs": [],
   "source": [
    "if LANG == 'multilingual':\n",
    "    lang_claim = [True] * len(lang_claim)\n",
    "claim_train_mask = tweet_discusses_claim_subgraph.nodes['claim'].data['train_mask'] & torch.tensor(lang_claim)\n",
    "claim_val_mask = tweet_discusses_claim_subgraph.nodes['claim'].data['val_mask'] & torch.tensor(lang_claim)\n",
    "claim_test_mask = tweet_discusses_claim_subgraph.nodes['claim'].data['test_mask'] & torch.tensor(lang_claim)\n",
    "\n",
    "plt.figure(figsize=(10, 7))\n",
    "tweet_discusses_claim_metagraph = tweet_discusses_claim_subgraph.metagraph()\n",
    "nx.draw_networkx(tweet_discusses_claim_metagraph, \n",
    "                 pos=nx.shell_layout(tweet_discusses_claim_metagraph), \n",
    "                 node_color='white', \n",
    "                 node_size=3000,\n",
    "                 arrows=False)"
   ]
  },
  {
   "cell_type": "markdown",
   "metadata": {},
   "source": [
    "# Setup dataset"
   ]
  },
  {
   "cell_type": "code",
   "execution_count": null,
   "metadata": {},
   "outputs": [],
   "source": [
    "edges_index = torch.cat([\n",
    "    tweet_discusses_claim_subgraph.edges(etype='discusses')[0].unsqueeze(0),\n",
    "    tweet_discusses_claim_subgraph.edges(etype='discusses')[1].unsqueeze(0)\n",
    "], dim=0)\n",
    "\n",
    "_claim_x = torch.stack([tweet_discusses_claim_subgraph.nodes['claim'].data['feat'][i] for i in tweet_discusses_claim_subgraph.edges(etype='discusses')[1]])\n",
    "_claim_y = torch.stack([tweet_discusses_claim_subgraph.nodes['claim'].data['label'][i] for i in tweet_discusses_claim_subgraph.edges(etype='discusses')[1]])\n",
    "_claim_train_mask = torch.BoolTensor([claim_train_mask[i] for i in tweet_discusses_claim_subgraph.edges(etype='discusses')[1]])\n",
    "_claim_val_mask = torch.BoolTensor([claim_val_mask[i] for i in tweet_discusses_claim_subgraph.edges(etype='discusses')[1]])\n",
    "_claim_test_mask = torch.BoolTensor([claim_test_mask[i] for i in tweet_discusses_claim_subgraph.edges(etype='discusses')[1]])\n",
    "data = tgData(\n",
    "    x=_claim_x,\n",
    "    y=_claim_y,\n",
    "    train_mask=_claim_train_mask,\n",
    "    val_mask=_claim_val_mask,\n",
    "    test_mask=_claim_test_mask,\n",
    "    edge_index=edges_index.long())"
   ]
  },
  {
   "cell_type": "markdown",
   "metadata": {},
   "source": [
    "# Train GAT"
   ]
  },
  {
   "cell_type": "code",
   "execution_count": null,
   "metadata": {},
   "outputs": [],
   "source": [
    "MODEL_NAME = f'{LANG}_graph'\n",
    "hparams = {\n",
    "    'input_dim': data.num_node_features,\n",
    "    'hidden_dim': 16,\n",
    "    'output_dim': max(data.y).item() + 1\n",
    "}\n",
    "\n",
    "model = GAT(**hparams).double()\n",
    "\n",
    "lr = 0.005\n",
    "epochs = 400\n",
    "\n",
    "model.train()\n",
    "optimizer = optim.Adam(model.parameters(), lr=lr)\n",
    "\n",
    "accuracy = tm.Accuracy(task='multiclass', num_classes=2, average='none')\n",
    "stats_score = tm.StatScores(task='multiclass', num_classes=2, average='none')\n",
    "precision = tm.Precision(task='multiclass', num_classes=2, average='none')\n",
    "recall = tm.Recall(task='multiclass', num_classes=2, average='none')\n",
    "f1_score = tm.classification.f_beta.F1Score(task='multiclass', num_classes=2, average='none')\n",
    "best_f1macro = -1\n",
    "\n",
    "bootstrap = tm.BootStrapper(\n",
    "    f1_score, num_bootstraps=200, sampling_strategy='multinomial', quantile=torch.tensor([0.05, 0.95])\n",
    ")\n",
    "\n",
    "for epoch in tqdm(range(epochs)):\n",
    "    optimizer.zero_grad()\n",
    "    \n",
    "    output = model(data.x, data.edge_index)\n",
    "    loss = F.nll_loss(output[data.train_mask], data.y[data.train_mask])\n",
    "    \n",
    "    loss.backward()\n",
    "    optimizer.step()\n",
    "    \n",
    "    f1 = f1_score(output[data.train_mask], data.y[data.train_mask])\n",
    "    f1macro = torch.mean(f1)\n",
    "\n",
    "    bootstrap.update(output[data.train_mask], data.y[data.train_mask])\n",
    "    \n",
    "    if f1macro > best_f1macro:\n",
    "        best_f1macro = f1macro\n",
    "        torch.save(model.state_dict(), f'./data/models/{MODEL_NAME}.pth')\n",
    "\n",
    "    if epoch % 10 == 0:\n",
    "        metrics = {\n",
    "            'Epoch': epoch,\n",
    "            'Accuracy': accuracy(output[data.train_mask], data.y[data.train_mask]),\n",
    "            'Precision': precision(output[data.train_mask], data.y[data.train_mask]),\n",
    "            'Recall': recall(output[data.train_mask], data.y[data.train_mask]),\n",
    "            'Stats_Score': stats_score(output[data.train_mask], data.y[data.train_mask]),\n",
    "            'F1': f1,\n",
    "            'F1-macro': f1macro,\n",
    "            'Bootstrap': bootstrap.compute()\n",
    "        }\n",
    "        print(metrics)"
   ]
  },
  {
   "cell_type": "code",
   "execution_count": null,
   "metadata": {},
   "outputs": [],
   "source": [
    "model.load_state_dict(torch.load(f'./data/models/{MODEL_NAME}.pth'))\n",
    "model.eval()\n",
    "\n",
    "accuracy = tm.Accuracy(task='multiclass', num_classes=2, average='none')\n",
    "stats_score = tm.StatScores(task='multiclass', num_classes=2, average='none')\n",
    "precision = tm.Precision(task='multiclass', num_classes=2, average='none')\n",
    "recall = tm.Recall(task='multiclass', num_classes=2, average='none')\n",
    "f1_score = tm.classification.f_beta.F1Score(task='multiclass', num_classes=2, average='none')\n",
    "\n",
    "print('test')\n",
    "\n",
    "f1 = f1_score(output[data.test_mask], data.y[data.test_mask])\n",
    "f1macro = torch.mean(f1)\n",
    "\n",
    "metrics = {\n",
    "    'Accuracy': accuracy(output[data.test_mask], data.y[data.test_mask]),\n",
    "    'Precision': precision(output[data.test_mask], data.y[data.test_mask]),\n",
    "    'Recall': recall(output[data.test_mask], data.y[data.test_mask]),\n",
    "    'Stats_Score': stats_score(output[data.test_mask], data.y[data.test_mask]),\n",
    "    'F1': f1,\n",
    "    'F1-macro': f1macro,\n",
    "    'Bootstrap': bootstrap.compute()\n",
    "}\n",
    "\n",
    "print(metrics)"
   ]
  },
  {
   "cell_type": "code",
   "execution_count": null,
   "metadata": {},
   "outputs": [],
   "source": [
    "model.load_state_dict(torch.load(f'./data/models/{MODEL_NAME}.pth'))\n",
    "model.eval()\n",
    "\n",
    "accuracy = tm.Accuracy(task='multiclass', num_classes=2, average='none')\n",
    "acc_bs = tm.BootStrapper(\n",
    "    accuracy, num_bootstraps=200, sampling_strategy='multinomial', quantile=torch.tensor([0.05, 0.95])\n",
    ")\n",
    "\n",
    "f1_score = tm.classification.f_beta.F1Score(task='multiclass', num_classes=2, average='none')\n",
    "f1_bs = tm.BootStrapper(\n",
    "    f1_score, num_bootstraps=200, sampling_strategy='multinomial', quantile=torch.tensor([0.05, 0.95])\n",
    ")\n",
    "\n",
    "acc_bs.update(output[data.test_mask], data.y[data.test_mask])\n",
    "f1_bs.update(output[data.test_mask], data.y[data.test_mask])\n",
    "\n",
    "out_acc_bs = acc_bs.compute()\n",
    "out_f1_bs = f1_bs.compute()\n",
    "\n",
    "results = {\n",
    "    'Language': LANG,\n",
    "    'Accuracy Bootstrap': out_acc_bs,\n",
    "    'F1 Bootstrap': out_f1_bs\n",
    "}\n",
    "\n",
    "print(results)"
   ]
  },
  {
   "cell_type": "code",
   "execution_count": null,
   "metadata": {},
   "outputs": [],
   "source": [
    "def get_all_nodes_explanation(model, explainer, data, dataset_mumin):\n",
    "\n",
    "    feature_id_map = {\n",
    "        'num_retweets': 0,\n",
    "        'num_replies': 1,\n",
    "        'num_quote_tweets': 2\n",
    "    }\n",
    "\n",
    "    user_df = dataset_mumin.nodes['user']\n",
    "    tweet_df = dataset_mumin.nodes['tweet']\n",
    "    reply_df = dataset_mumin.nodes['reply']\n",
    "\n",
    "    reply_quoteof_tweet_df = dataset_mumin.rels[('reply', 'quote_of', 'tweet')]\n",
    "    reply_quoteof_tweet_df = (reply_df.merge(reply_quoteof_tweet_df, left_index=True, right_on='src')\n",
    "                            .merge(tweet_df, left_on='tgt', right_index=True)\n",
    "                            .reset_index(drop=True))\n",
    "\n",
    "    user_posted_tweet_df = dataset_mumin.rels[('user', 'posted', 'tweet')]\n",
    "    user_posted_tweet_df = (user_df.merge(user_posted_tweet_df, left_index=True, right_on='src')\n",
    "                            .merge(tweet_df, left_on='tgt', right_index=True)\n",
    "                            .reset_index(drop=True))\n",
    "\n",
    "    user_posted_reply_df = dataset_mumin.rels[('user', 'posted', 'reply')]\n",
    "    user_posted_reply_df = (user_df.merge(user_posted_reply_df, left_index=True, right_on='src')\n",
    "                            .merge(tweet_df, left_on='tgt', right_index=True)\n",
    "                            .reset_index(drop=True))\n",
    "\n",
    "    for node_idx in range(data.x.shape[0]):\n",
    "        \n",
    "        coefs = explainer.explain_node(node_idx, data.x, data.edge_index)\n",
    "        probas = model(data.x, data.edge_index).exp()\n",
    "        # fact_or_fake = 'fact' if torch.argmax(probas[node_idx]).item() == 0 else 'fake'\n",
    "\n",
    "        if tweet_df.iloc[node_idx]['num_quote_tweets'] != 0 and \\\n",
    "            feature_id_map['num_quote_tweets'] not in list(np.where(coefs != 0)[0]): # get only inferences explained by quotes\n",
    "\n",
    "            tgt_tweet_id = dataset_mumin.nodes['tweet'].iloc[node_idx]['tweet_id']\n",
    "\n",
    "            # manual traverse\n",
    "            replies_src = list(reply_quoteof_tweet_df.query(f'tweet_id_y == {tgt_tweet_id}')['src'])                      \n",
    "            quoters_ids = list(user_posted_reply_df.query(f'tgt in {str(replies_src)}')['user_id'])\n",
    "            quoters_posts = user_posted_tweet_df[user_posted_tweet_df['user_id'].isin(quoters_ids)]\n",
    "\n",
    "            if not quoters_posts.empty:\n",
    "                # print(fact_or_fake, quoters_ids)\n",
    "                print(quoters_ids)\n",
    "                # break"
   ]
  },
  {
   "cell_type": "code",
   "execution_count": null,
   "metadata": {},
   "outputs": [],
   "source": [
    "# user_df = dataset_mumin.nodes['user']\n",
    "# explainer = GraphLIME(model, hop=2, rho=0.1, cached=True)\n",
    "# get_all_nodes_explanation(model, explainer, data, dataset_mumin)"
   ]
  },
  {
   "cell_type": "markdown",
   "metadata": {},
   "source": [
    "# Enhance with text-based features"
   ]
  },
  {
   "cell_type": "code",
   "execution_count": null,
   "metadata": {},
   "outputs": [],
   "source": [
    "from transformers import AutoModelForSequenceClassification\n",
    "\n",
    "TEXT_DIM = 100\n",
    "\n",
    "LANG_TOOL_MAP = {\n",
    "    'multilingual': {\n",
    "        'bertweet': AutoModel.from_pretrained('vinai/bertweet-base'),\n",
    "        'tokenizer': AutoTokenizer.from_pretrained('vinai/bertweet-base', use_fast=False)\n",
    "    },\n",
    "    'en': {\n",
    "        'bertweet': AutoModel.from_pretrained('vinai/bertweet-base'),\n",
    "        'tokenizer': AutoTokenizer.from_pretrained('vinai/bertweet-base', use_fast=False)\n",
    "    },\n",
    "    'pt': {\n",
    "        'bertweet': AutoModel.from_pretrained('melll-uff/bertweetbr'),\n",
    "        'tokenizer': AutoTokenizer.from_pretrained('melll-uff/bertweetbr', normalization=True)\n",
    "    },\n",
    "    'es': {\n",
    "        'bertweet': AutoModel.from_pretrained('pysentimiento/robertuito-base-cased'),\n",
    "        'tokenizer': AutoTokenizer.from_pretrained('pysentimiento/robertuito-base-cased')\n",
    "    }\n",
    "}\n",
    "\n",
    "bertweet = LANG_TOOL_MAP[LANG]['bertweet']\n",
    "tokenizer = LANG_TOOL_MAP[LANG]['tokenizer']\n",
    "\n",
    "# bertweet = AutoModelForSequenceClassification.from_pretrained(\"vinai/bertweet-base\", num_labels=2)\n",
    "# bertweet = AutoModelForSequenceClassification.from_pretrained(\"vinai/bertweet-base\", num_labels=2)"
   ]
  },
  {
   "cell_type": "code",
   "execution_count": null,
   "metadata": {},
   "outputs": [],
   "source": [
    "def tweetencoder(x, text_dim):\n",
    "    try:\n",
    "        x = bertweet(torch.tensor([tokenizer.encode(normalizeTweet(x))])).pooler_output\n",
    "    except:\n",
    "        # print(x)\n",
    "        x = bertweet(torch.tensor([tokenizer.encode('')])).pooler_output\n",
    "    return nn.Linear(768, text_dim)(x).tolist()[0]"
   ]
  },
  {
   "cell_type": "code",
   "execution_count": null,
   "metadata": {},
   "outputs": [],
   "source": [
    "tweet_df['text_encoding'] = str([0] * TEXT_DIM)\n",
    "if LANG == 'multilingual':\n",
    "    tweet_df['text_encoding'] = [tweetencoder(text, TEXT_DIM) for text in tweet_df['text']]\n",
    "else:\n",
    "    tweet_df['text_encoding'] = [tweetencoder(text, TEXT_DIM) if lang == LANG else str([0] * TEXT_DIM) for text,lang in zip(tweet_df['text'], tweet_df['lang'])]"
   ]
  },
  {
   "cell_type": "code",
   "execution_count": null,
   "metadata": {},
   "outputs": [],
   "source": [
    "new_embedding_columns = [f'emb{i}' for i in range(TEXT_DIM)]\n",
    "\n",
    "tweet_embeddings_split_df = pd.DataFrame(\n",
    "    [x if not isinstance(x, str) else eval(x) for x in tweet_df['text_encoding'].tolist()],\n",
    "    index=tweet_df.index,\n",
    "    columns=new_embedding_columns\n",
    ")\n",
    "tweet_df = pd.concat([tweet_df, tweet_embeddings_split_df], axis=1)\n",
    "tweet_df.dropna(inplace=True)\n",
    "display(tweet_df)"
   ]
  },
  {
   "cell_type": "code",
   "execution_count": null,
   "metadata": {},
   "outputs": [],
   "source": [
    "MODE = 'multimodal'\n",
    "# MODE = 'text'\n",
    "\n",
    "new_features_df = pd.DataFrame(index=range(tweet_discusses_claim_subgraph.nodes['tweet'].data['feat'].shape[0]))\n",
    "new_features_df = new_features_df.join(tweet_df[new_embedding_columns])#.fillna(0)\n",
    "new_features_tensor = torch.tensor(new_features_df.values).double()\n",
    "\n",
    "mixed_features = new_features_tensor\n",
    "if MODE == 'multimodal':\n",
    "    mixed_features = torch.cat([tweet_discusses_claim_subgraph.nodes['tweet'].data['feat'], new_features_tensor], axis = 1).double()\n",
    "\n",
    "edges_index = torch.cat([\n",
    "    tweet_discusses_claim_subgraph.edges(etype='discusses')[0].unsqueeze(0),\n",
    "    tweet_discusses_claim_subgraph.edges(etype='discusses')[1].unsqueeze(0)\n",
    "], dim=0)\n",
    "\n",
    "_claim_x = torch.stack([mixed_features[i] for i in tweet_discusses_claim_subgraph.edges(etype='discusses')[1]])\n",
    "_claim_y = torch.stack([tweet_discusses_claim_subgraph.nodes['claim'].data['label'][i] for i in tweet_discusses_claim_subgraph.edges(etype='discusses')[1]])\n",
    "_claim_train_mask = torch.BoolTensor([claim_train_mask[i] for i in tweet_discusses_claim_subgraph.edges(etype='discusses')[1]])\n",
    "_claim_val_mask = torch.BoolTensor([claim_val_mask[i] for i in tweet_discusses_claim_subgraph.edges(etype='discusses')[1]])\n",
    "_claim_test_mask = torch.BoolTensor([claim_test_mask[i] for i in tweet_discusses_claim_subgraph.edges(etype='discusses')[1]])\n",
    "\n",
    "new_features_data = tgData(\n",
    "    x=_claim_x,\n",
    "    y=_claim_y,\n",
    "    train_mask=_claim_train_mask,\n",
    "    val_mask=_claim_val_mask,\n",
    "    test_mask=_claim_test_mask,\n",
    "    edge_index=edges_index.long())"
   ]
  },
  {
   "cell_type": "code",
   "execution_count": null,
   "metadata": {},
   "outputs": [],
   "source": [
    "hparams = {\n",
    "    'input_dim': new_features_data.num_node_features,\n",
    "    'hidden_dim': 16,\n",
    "    'output_dim': max(new_features_data.y).item() + 1\n",
    "}\n",
    "\n",
    "MODEL_NAME = f'{LANG}_{MODE}'\n",
    "\n",
    "model = GAT(**hparams).double()\n",
    "\n",
    "lr = 0.005\n",
    "epochs = 400\n",
    "\n",
    "model.train()\n",
    "optimizer = optim.Adam(model.parameters(), lr=lr)\n",
    "\n",
    "accuracy = tm.Accuracy(task='multiclass', num_classes=2, average='none')\n",
    "stats_score = tm.StatScores(task='multiclass', num_classes=2, average='none')\n",
    "precision = tm.Precision(task='multiclass', num_classes=2, average='none')\n",
    "recall = tm.Recall(task='multiclass', num_classes=2, average='none')\n",
    "f1_score = tm.classification.f_beta.F1Score(task='multiclass', num_classes=2, average='none')\n",
    "best_f1macro = -1\n",
    "\n",
    "bootstrap = tm.BootStrapper(\n",
    "    f1_score, num_bootstraps=200, sampling_strategy='multinomial', quantile=torch.tensor([0.05, 0.95])\n",
    ")\n",
    "\n",
    "for epoch in tqdm(range(epochs)):\n",
    "    optimizer.zero_grad()\n",
    "    \n",
    "    output = model(new_features_data.x, new_features_data.edge_index)\n",
    "    loss = F.nll_loss(output[new_features_data.train_mask], new_features_data.y[new_features_data.train_mask])\n",
    "    \n",
    "    loss.backward()\n",
    "    optimizer.step()\n",
    "    \n",
    "    f1 = f1_score(output[new_features_data.train_mask], new_features_data.y[new_features_data.train_mask])\n",
    "    f1macro = torch.mean(f1)\n",
    "\n",
    "    bootstrap.update(output[new_features_data.train_mask], new_features_data.y[new_features_data.train_mask])\n",
    "\n",
    "    if f1macro > best_f1macro:\n",
    "        best_f1macro = f1macro\n",
    "        torch.save(model.state_dict(), f'./data/models/{MODEL_NAME}.pth')\n",
    "\n",
    "    if epoch % 10 == 0:\n",
    "        metrics = {\n",
    "            'Epoch': epoch,\n",
    "            'Accuracy': accuracy(output[new_features_data.train_mask], new_features_data.y[new_features_data.train_mask]),\n",
    "            'Precision': precision(output[new_features_data.train_mask], new_features_data.y[new_features_data.train_mask]),\n",
    "            'Recall': recall(output[new_features_data.train_mask], new_features_data.y[new_features_data.train_mask]),\n",
    "            'Stats_Score': stats_score(output[new_features_data.train_mask], new_features_data.y[new_features_data.train_mask]),\n",
    "            'F1': f1,\n",
    "            'F1-macro': f1macro,\n",
    "            'Bootstrap': bootstrap.compute()\n",
    "        }\n",
    "        print(metrics)\n",
    "\n",
    "model.eval()"
   ]
  },
  {
   "cell_type": "code",
   "execution_count": null,
   "metadata": {},
   "outputs": [],
   "source": [
    "model.load_state_dict(torch.load(f'./data/models/{MODEL_NAME}.pth'))\n",
    "model.eval()\n",
    "\n",
    "accuracy = tm.Accuracy(task='multiclass', num_classes=2, average='none')\n",
    "stats_score = tm.StatScores(task='multiclass', num_classes=2, average='none')\n",
    "precision = tm.Precision(task='multiclass', num_classes=2, average='none')\n",
    "recall = tm.Recall(task='multiclass', num_classes=2, average='none')\n",
    "f1_score = tm.classification.f_beta.F1Score(task='multiclass', num_classes=2, average='none')\n",
    "\n",
    "print('test')\n",
    "\n",
    "f1 = f1_score(output[new_features_data.test_mask], new_features_data.y[new_features_data.test_mask])\n",
    "f1macro = torch.mean(f1)\n",
    "\n",
    "metrics = {\n",
    "    'Accuracy': accuracy(output[new_features_data.test_mask], new_features_data.y[new_features_data.test_mask]),\n",
    "    'Precision': precision(output[new_features_data.test_mask], new_features_data.y[new_features_data.test_mask]),\n",
    "    'Recall': recall(output[new_features_data.test_mask], new_features_data.y[new_features_data.test_mask]),\n",
    "    'Stats_Score': stats_score(output[new_features_data.test_mask], new_features_data.y[new_features_data.test_mask]),\n",
    "    'F1': f1,\n",
    "    'F1-macro': f1macro,\n",
    "    'Bootstrap': bootstrap.compute()\n",
    "}\n",
    "\n",
    "print(metrics)"
   ]
  },
  {
   "cell_type": "code",
   "execution_count": null,
   "metadata": {},
   "outputs": [],
   "source": [
    "model.load_state_dict(torch.load(f'./data/models/{MODEL_NAME}.pth'))\n",
    "model.eval()\n",
    "\n",
    "accuracy = tm.Accuracy(task='multiclass', num_classes=2, average='none')\n",
    "acc_bs = tm.BootStrapper(\n",
    "    accuracy, num_bootstraps=200, sampling_strategy='multinomial', quantile=torch.tensor([0.05, 0.95])\n",
    ")\n",
    "\n",
    "f1_score = tm.classification.f_beta.F1Score(task='multiclass', num_classes=2, average='none')\n",
    "f1_bs = tm.BootStrapper(\n",
    "    f1_score, num_bootstraps=200, sampling_strategy='multinomial', quantile=torch.tensor([0.05, 0.95])\n",
    ")\n",
    "\n",
    "acc_bs.update(output[new_features_data.test_mask], new_features_data.y[new_features_data.test_mask])\n",
    "f1_bs.update(output[new_features_data.test_mask], new_features_data.y[new_features_data.test_mask])\n",
    "\n",
    "out_acc_bs = acc_bs.compute()\n",
    "out_f1_bs = f1_bs.compute()\n",
    "\n",
    "results = {\n",
    "    'Language': LANG,\n",
    "    'Accuracy Bootstrap': out_acc_bs,\n",
    "    'F1 Bootstrap': out_f1_bs\n",
    "}\n",
    "\n",
    "print(results)"
   ]
  },
  {
   "cell_type": "code",
   "execution_count": null,
   "metadata": {},
   "outputs": [],
   "source": []
  },
  {
   "cell_type": "code",
   "execution_count": null,
   "metadata": {},
   "outputs": [],
   "source": []
  },
  {
   "cell_type": "code",
   "execution_count": null,
   "metadata": {},
   "outputs": [],
   "source": []
  },
  {
   "cell_type": "code",
   "execution_count": null,
   "metadata": {},
   "outputs": [],
   "source": [
    "# list(tweet_df[tweet_df['lang'] == 'pt'].index)"
   ]
  },
  {
   "cell_type": "code",
   "execution_count": null,
   "metadata": {},
   "outputs": [],
   "source": [
    "explainer = GraphLIME(model, hop=2, rho=0.1, cached=True)\n",
    "\n",
    "# for node_idx in range(data.x.shape[0]):\n",
    "#     coefs = explainer.explain_node(node_idx, data.x, data.edge_index)\n",
    "#     if len(set(np.where(coefs != 0)[0]).intersection(set([3,4,5]))) != 0:\n",
    "#         print(node_idx)\n",
    "\n",
    "# try: 102 | 118 | 127\n",
    "node_idx = 91\n",
    "\n",
    "probas = model(new_features_data.x, new_features_data.edge_index).exp()\n",
    "print(probas[node_idx], torch.argmax(probas[node_idx]).item())\n",
    "coefs = explainer.explain_node(node_idx, new_features_data.x, new_features_data.edge_index)\n",
    "\n",
    "print(coefs, len(coefs))\n",
    "print(np.where(coefs != 0))"
   ]
  },
  {
   "cell_type": "code",
   "execution_count": null,
   "metadata": {},
   "outputs": [],
   "source": [
    "k = 91\n",
    "print(tweet_df.loc[k].text)\n",
    "tweet_df.loc[k]"
   ]
  },
  {
   "cell_type": "code",
   "execution_count": null,
   "metadata": {},
   "outputs": [],
   "source": [
    "tweet_df = dataset_mumin.nodes['tweet']\n",
    "claim_df = dataset_mumin.nodes['claim']\n",
    "x = dataset_mumin.rels[('tweet', 'discusses', 'claim')]\n",
    "y = (tweet_df.merge(x, left_index=True, right_on='src')\n",
    "                          .merge(claim_df, left_on='tgt', right_index=True)\n",
    "                          .reset_index(drop=True))\n",
    "\n",
    "y[y['tweet_id'] == 1334273990039375876]"
   ]
  },
  {
   "cell_type": "code",
   "execution_count": null,
   "metadata": {},
   "outputs": [],
   "source": [
    "tweet_df = dataset_mumin.nodes['tweet']\n",
    "reply_df = dataset_mumin.nodes['reply']\n",
    "reply_quoteof_tweet_df = dataset_mumin.rels[('reply', 'reply_to', 'tweet')]\n",
    "reply_quoteof_tweet_df = (reply_df.merge(quote_of_df, left_index=True, right_on='src')\n",
    "                        .merge(tweet_df, left_on='tgt', right_index=True)\n",
    "                        .reset_index(drop=True))\n",
    "\n",
    "reply_quoteof_tweet_df[reply_quoteof_tweet_df['tweet_id_y'] == 1334273990039375876]"
   ]
  },
  {
   "cell_type": "code",
   "execution_count": null,
   "metadata": {},
   "outputs": [],
   "source": [
    "from transformers_interpret import SequenceClassificationExplainer, MultiLabelClassificationExplainer\n",
    "# cls_explainer = SequenceClassificationExplainer(bertweet,tokenizer)\n",
    "cls_explainer = SequenceClassificationExplainer(bertweet,tokenizer)"
   ]
  },
  {
   "cell_type": "code",
   "execution_count": null,
   "metadata": {},
   "outputs": [],
   "source": [
    "word_attributions = cls_explainer(normalizeTweet(tweet_df.loc[127].text))"
   ]
  },
  {
   "cell_type": "code",
   "execution_count": null,
   "metadata": {},
   "outputs": [],
   "source": [
    "cls_explainer.predicted_class_name"
   ]
  },
  {
   "cell_type": "code",
   "execution_count": null,
   "metadata": {},
   "outputs": [],
   "source": [
    "cls_explainer.visualize()"
   ]
  },
  {
   "cell_type": "code",
   "execution_count": null,
   "metadata": {},
   "outputs": [],
   "source": [
    "word_attributions = cls_explainer(normalizeTweet('Head of Pfizer Research: Covid Vaccine is Female Sterilization – Health and Money News https://t.co/IDRLSVmkLz'))"
   ]
  },
  {
   "cell_type": "code",
   "execution_count": null,
   "metadata": {},
   "outputs": [],
   "source": [
    "cls_explainer.visualize()"
   ]
  },
  {
   "cell_type": "code",
   "execution_count": null,
   "metadata": {},
   "outputs": [],
   "source": [
    "bertweet = AutoModelForSequenceClassification.from_pretrained(\"vinai/bertweet-base\", num_labels=2)\n",
    "F.softmax(bertweet(torch.tensor([tokenizer.encode(normalizeTweet('my favourite text'))])).logits)"
   ]
  },
  {
   "cell_type": "code",
   "execution_count": null,
   "metadata": {},
   "outputs": [],
   "source": [
    "F.softmax(bertweet(torch.tensor([tokenizer.encode(normalizeTweet('my favourite text'))])).logits, dim=1)"
   ]
  },
  {
   "cell_type": "code",
   "execution_count": null,
   "metadata": {},
   "outputs": [],
   "source": [
    "cls_explainer = SequenceClassificationExplainer(bertweet,tokenizer)"
   ]
  },
  {
   "cell_type": "code",
   "execution_count": null,
   "metadata": {},
   "outputs": [],
   "source": [
    "word_attributions = cls_explainer(normalizeTweet(tweet_df.loc[102].text))\n",
    "cls_explainer.visualize()"
   ]
  },
  {
   "cell_type": "code",
   "execution_count": null,
   "metadata": {},
   "outputs": [],
   "source": [
    "dataset_mumin.nodes['claim'].loc[0]['embedding'].shape"
   ]
  },
  {
   "cell_type": "code",
   "execution_count": null,
   "metadata": {},
   "outputs": [],
   "source": [
    "dataset_mumin.nodes['tweet']"
   ]
  },
  {
   "cell_type": "code",
   "execution_count": null,
   "metadata": {},
   "outputs": [],
   "source": [
    "bertweet.config.id2label"
   ]
  },
  {
   "cell_type": "code",
   "execution_count": null,
   "metadata": {},
   "outputs": [],
   "source": [
    "tweet_discusses_claim_df"
   ]
  },
  {
   "cell_type": "code",
   "execution_count": null,
   "metadata": {},
   "outputs": [],
   "source": [
    "dataset_mumin.nodes['claim']"
   ]
  },
  {
   "cell_type": "code",
   "execution_count": null,
   "metadata": {},
   "outputs": [],
   "source": []
  }
 ],
 "metadata": {
  "kernelspec": {
   "display_name": "Python 3.8.13 ('melll')",
   "language": "python",
   "name": "python3"
  },
  "language_info": {
   "codemirror_mode": {
    "name": "ipython",
    "version": 3
   },
   "file_extension": ".py",
   "mimetype": "text/x-python",
   "name": "python",
   "nbconvert_exporter": "python",
   "pygments_lexer": "ipython3",
   "version": "3.8.16"
  },
  "orig_nbformat": 4,
  "vscode": {
   "interpreter": {
    "hash": "be8229d8c53a846cb6a0684c036bbbb9278b7b274400c064f315ff8f5b01068c"
   }
  }
 },
 "nbformat": 4,
 "nbformat_minor": 2
}
