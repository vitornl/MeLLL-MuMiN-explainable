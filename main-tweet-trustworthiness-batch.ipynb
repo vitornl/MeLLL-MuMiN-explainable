{
 "cells": [
  {
   "cell_type": "code",
   "execution_count": 1,
   "metadata": {},
   "outputs": [],
   "source": [
    "import os\n",
    "import uuid\n",
    "import json\n",
    "import warnings\n",
    "import random\n",
    "import copy\n",
    "import pickle\n",
    "import torch\n",
    "\n",
    "import pandas as pd\n",
    "import numpy as np\n",
    "import matplotlib.pyplot as plt\n",
    "import seaborn as sns\n",
    "import torch.nn as nn\n",
    "import torch.optim as optim\n",
    "import torch.nn.functional as F\n",
    "import torchmetrics as tm\n",
    "\n",
    "from graphlime import GraphLIME\n",
    "from tqdm.notebook import tqdm\n",
    "from torch_geometric.data import Data as tgData\n",
    "from mumin_explainable.architectures.graphs import GAT\n",
    "\n",
    "%matplotlib inline\n",
    "\n",
    "warnings.filterwarnings('ignore')"
   ]
  },
  {
   "cell_type": "code",
   "execution_count": 2,
   "metadata": {},
   "outputs": [],
   "source": [
    "SEED = 42\n",
    "torch.manual_seed(SEED)\n",
    "random.seed(SEED)\n",
    "np.random.seed(SEED)\n",
    "torch.manual_seed(SEED)\n",
    "torch.cuda.manual_seed_all(SEED)\n",
    "torch.backends.cudnn.deterministic = True"
   ]
  },
  {
   "attachments": {},
   "cell_type": "markdown",
   "metadata": {},
   "source": [
    "# Load data"
   ]
  },
  {
   "cell_type": "code",
   "execution_count": 3,
   "metadata": {},
   "outputs": [
    {
     "data": {
      "text/plain": [
       "torch.Size([4061, 812])"
      ]
     },
     "execution_count": 3,
     "metadata": {},
     "output_type": "execute_result"
    }
   ],
   "source": [
    "LANGUAGE = 'multilingual'\n",
    "MODALITY = 'graph'\n",
    "TEXT_DIM = 100\n",
    "\n",
    "\n",
    "data = pickle.load(open(f'./data/preload/data-jupyter_{MODALITY}_{LANGUAGE}.pickle', 'rb'))\n",
    "data.x.shape"
   ]
  },
  {
   "cell_type": "markdown",
   "metadata": {},
   "source": [
    "# Trustworthiness batch experiment"
   ]
  },
  {
   "cell_type": "code",
   "execution_count": 139,
   "metadata": {},
   "outputs": [
    {
     "data": {
      "application/vnd.jupyter.widget-view+json": {
       "model_id": "0456b772abe9488bbd62da8bc4a74b7d",
       "version_major": 2,
       "version_minor": 0
      },
      "text/plain": [
       "  0%|          | 0/5 [00:00<?, ?it/s]"
      ]
     },
     "metadata": {},
     "output_type": "display_data"
    },
    {
     "data": {
      "application/vnd.jupyter.widget-view+json": {
       "model_id": "dbea69c863e44b2b9f71a91f887a5207",
       "version_major": 2,
       "version_minor": 0
      },
      "text/plain": [
       "  0%|          | 0/5 [00:00<?, ?it/s]"
      ]
     },
     "metadata": {},
     "output_type": "display_data"
    },
    {
     "data": {
      "application/vnd.jupyter.widget-view+json": {
       "model_id": "48dab5ee56fb4e3a9e4fd3893c5b5071",
       "version_major": 2,
       "version_minor": 0
      },
      "text/plain": [
       "  0%|          | 0/400 [00:00<?, ?it/s]"
      ]
     },
     "metadata": {},
     "output_type": "display_data"
    },
    {
     "data": {
      "application/vnd.jupyter.widget-view+json": {
       "model_id": "abe2e5052c7b41468b79a05723544ccb",
       "version_major": 2,
       "version_minor": 0
      },
      "text/plain": [
       "  0%|          | 0/439 [00:00<?, ?it/s]"
      ]
     },
     "metadata": {},
     "output_type": "display_data"
    },
    {
     "data": {
      "application/vnd.jupyter.widget-view+json": {
       "model_id": "1e86c74f8aa140e6831f025c555e9b03",
       "version_major": 2,
       "version_minor": 0
      },
      "text/plain": [
       "  0%|          | 0/400 [00:00<?, ?it/s]"
      ]
     },
     "metadata": {},
     "output_type": "display_data"
    },
    {
     "data": {
      "application/vnd.jupyter.widget-view+json": {
       "model_id": "4b61e62ac18343c3a5d2fe722ab44b96",
       "version_major": 2,
       "version_minor": 0
      },
      "text/plain": [
       "  0%|          | 0/439 [00:00<?, ?it/s]"
      ]
     },
     "metadata": {},
     "output_type": "display_data"
    },
    {
     "data": {
      "application/vnd.jupyter.widget-view+json": {
       "model_id": "076302df41c84f4f871ea862f641a4a6",
       "version_major": 2,
       "version_minor": 0
      },
      "text/plain": [
       "  0%|          | 0/400 [00:00<?, ?it/s]"
      ]
     },
     "metadata": {},
     "output_type": "display_data"
    },
    {
     "data": {
      "application/vnd.jupyter.widget-view+json": {
       "model_id": "a5a4cab0b5554aee93349cc66288944d",
       "version_major": 2,
       "version_minor": 0
      },
      "text/plain": [
       "  0%|          | 0/439 [00:00<?, ?it/s]"
      ]
     },
     "metadata": {},
     "output_type": "display_data"
    },
    {
     "data": {
      "application/vnd.jupyter.widget-view+json": {
       "model_id": "745516016280473d93ed2222a835a35f",
       "version_major": 2,
       "version_minor": 0
      },
      "text/plain": [
       "  0%|          | 0/400 [00:00<?, ?it/s]"
      ]
     },
     "metadata": {},
     "output_type": "display_data"
    },
    {
     "data": {
      "application/vnd.jupyter.widget-view+json": {
       "model_id": "8ffd972a14e447d6a9bcacd497dcbffa",
       "version_major": 2,
       "version_minor": 0
      },
      "text/plain": [
       "  0%|          | 0/439 [00:00<?, ?it/s]"
      ]
     },
     "metadata": {},
     "output_type": "display_data"
    },
    {
     "data": {
      "application/vnd.jupyter.widget-view+json": {
       "model_id": "1f7f4241e9a041d0bd4ba73e9726677d",
       "version_major": 2,
       "version_minor": 0
      },
      "text/plain": [
       "  0%|          | 0/400 [00:00<?, ?it/s]"
      ]
     },
     "metadata": {},
     "output_type": "display_data"
    },
    {
     "data": {
      "application/vnd.jupyter.widget-view+json": {
       "model_id": "7abd945f15ff48bbbc12feacb1d24568",
       "version_major": 2,
       "version_minor": 0
      },
      "text/plain": [
       "  0%|          | 0/439 [00:00<?, ?it/s]"
      ]
     },
     "metadata": {},
     "output_type": "display_data"
    },
    {
     "data": {
      "application/vnd.jupyter.widget-view+json": {
       "model_id": "47490cb161de4d639701cd828d6cf54e",
       "version_major": 2,
       "version_minor": 0
      },
      "text/plain": [
       "  0%|          | 0/5 [00:00<?, ?it/s]"
      ]
     },
     "metadata": {},
     "output_type": "display_data"
    },
    {
     "data": {
      "application/vnd.jupyter.widget-view+json": {
       "model_id": "6fe8b29e4f7b439d8c3dc3f76c5f3803",
       "version_major": 2,
       "version_minor": 0
      },
      "text/plain": [
       "  0%|          | 0/400 [00:00<?, ?it/s]"
      ]
     },
     "metadata": {},
     "output_type": "display_data"
    },
    {
     "data": {
      "application/vnd.jupyter.widget-view+json": {
       "model_id": "9eec72be47bf461782d039621b333d19",
       "version_major": 2,
       "version_minor": 0
      },
      "text/plain": [
       "  0%|          | 0/439 [00:00<?, ?it/s]"
      ]
     },
     "metadata": {},
     "output_type": "display_data"
    },
    {
     "data": {
      "application/vnd.jupyter.widget-view+json": {
       "model_id": "65885daa93cf4fe2bb76663255bd824e",
       "version_major": 2,
       "version_minor": 0
      },
      "text/plain": [
       "  0%|          | 0/400 [00:00<?, ?it/s]"
      ]
     },
     "metadata": {},
     "output_type": "display_data"
    },
    {
     "data": {
      "application/vnd.jupyter.widget-view+json": {
       "model_id": "a02577bb53c64a798ed787fec384ce47",
       "version_major": 2,
       "version_minor": 0
      },
      "text/plain": [
       "  0%|          | 0/439 [00:00<?, ?it/s]"
      ]
     },
     "metadata": {},
     "output_type": "display_data"
    },
    {
     "data": {
      "application/vnd.jupyter.widget-view+json": {
       "model_id": "ee699b48655b427393036c1e835ec009",
       "version_major": 2,
       "version_minor": 0
      },
      "text/plain": [
       "  0%|          | 0/400 [00:00<?, ?it/s]"
      ]
     },
     "metadata": {},
     "output_type": "display_data"
    },
    {
     "data": {
      "application/vnd.jupyter.widget-view+json": {
       "model_id": "671c5856b1284500834e84b301c0131c",
       "version_major": 2,
       "version_minor": 0
      },
      "text/plain": [
       "  0%|          | 0/439 [00:00<?, ?it/s]"
      ]
     },
     "metadata": {},
     "output_type": "display_data"
    },
    {
     "data": {
      "application/vnd.jupyter.widget-view+json": {
       "model_id": "097b59a3c8084029bc831992b4a81139",
       "version_major": 2,
       "version_minor": 0
      },
      "text/plain": [
       "  0%|          | 0/400 [00:00<?, ?it/s]"
      ]
     },
     "metadata": {},
     "output_type": "display_data"
    },
    {
     "data": {
      "application/vnd.jupyter.widget-view+json": {
       "model_id": "5c44c23910634c089eafef52c6fe855d",
       "version_major": 2,
       "version_minor": 0
      },
      "text/plain": [
       "  0%|          | 0/439 [00:00<?, ?it/s]"
      ]
     },
     "metadata": {},
     "output_type": "display_data"
    },
    {
     "data": {
      "application/vnd.jupyter.widget-view+json": {
       "model_id": "9a6e69d4e68e4fda8fb1405940df9217",
       "version_major": 2,
       "version_minor": 0
      },
      "text/plain": [
       "  0%|          | 0/400 [00:00<?, ?it/s]"
      ]
     },
     "metadata": {},
     "output_type": "display_data"
    },
    {
     "data": {
      "application/vnd.jupyter.widget-view+json": {
       "model_id": "fcf28bb1c806485297b9e9c4dcf96fa8",
       "version_major": 2,
       "version_minor": 0
      },
      "text/plain": [
       "  0%|          | 0/439 [00:00<?, ?it/s]"
      ]
     },
     "metadata": {},
     "output_type": "display_data"
    },
    {
     "data": {
      "application/vnd.jupyter.widget-view+json": {
       "model_id": "b0edb50e113d424eb8a62095e0b3a29b",
       "version_major": 2,
       "version_minor": 0
      },
      "text/plain": [
       "  0%|          | 0/5 [00:00<?, ?it/s]"
      ]
     },
     "metadata": {},
     "output_type": "display_data"
    },
    {
     "data": {
      "application/vnd.jupyter.widget-view+json": {
       "model_id": "b0f960958d274d79a3e2f33f930ddbab",
       "version_major": 2,
       "version_minor": 0
      },
      "text/plain": [
       "  0%|          | 0/400 [00:00<?, ?it/s]"
      ]
     },
     "metadata": {},
     "output_type": "display_data"
    },
    {
     "data": {
      "application/vnd.jupyter.widget-view+json": {
       "model_id": "e755d56d7d954bc4be45a2da0694adce",
       "version_major": 2,
       "version_minor": 0
      },
      "text/plain": [
       "  0%|          | 0/439 [00:00<?, ?it/s]"
      ]
     },
     "metadata": {},
     "output_type": "display_data"
    },
    {
     "data": {
      "application/vnd.jupyter.widget-view+json": {
       "model_id": "4aa192eda6c340c48d80f356cb4c8bed",
       "version_major": 2,
       "version_minor": 0
      },
      "text/plain": [
       "  0%|          | 0/400 [00:00<?, ?it/s]"
      ]
     },
     "metadata": {},
     "output_type": "display_data"
    },
    {
     "data": {
      "application/vnd.jupyter.widget-view+json": {
       "model_id": "acfc31aa526d4bf186b92b397b018cec",
       "version_major": 2,
       "version_minor": 0
      },
      "text/plain": [
       "  0%|          | 0/439 [00:00<?, ?it/s]"
      ]
     },
     "metadata": {},
     "output_type": "display_data"
    },
    {
     "data": {
      "application/vnd.jupyter.widget-view+json": {
       "model_id": "6e3c80075e4e4d69aa4d11f5ee1bef80",
       "version_major": 2,
       "version_minor": 0
      },
      "text/plain": [
       "  0%|          | 0/400 [00:00<?, ?it/s]"
      ]
     },
     "metadata": {},
     "output_type": "display_data"
    },
    {
     "data": {
      "application/vnd.jupyter.widget-view+json": {
       "model_id": "a12436d9ea0640569a3893f25f61e5ea",
       "version_major": 2,
       "version_minor": 0
      },
      "text/plain": [
       "  0%|          | 0/439 [00:00<?, ?it/s]"
      ]
     },
     "metadata": {},
     "output_type": "display_data"
    },
    {
     "data": {
      "application/vnd.jupyter.widget-view+json": {
       "model_id": "415848e57f7b4ceb9028daee19d3b0e3",
       "version_major": 2,
       "version_minor": 0
      },
      "text/plain": [
       "  0%|          | 0/400 [00:00<?, ?it/s]"
      ]
     },
     "metadata": {},
     "output_type": "display_data"
    },
    {
     "data": {
      "application/vnd.jupyter.widget-view+json": {
       "model_id": "8bd3f58400eb47569def2875334d7500",
       "version_major": 2,
       "version_minor": 0
      },
      "text/plain": [
       "  0%|          | 0/439 [00:00<?, ?it/s]"
      ]
     },
     "metadata": {},
     "output_type": "display_data"
    },
    {
     "data": {
      "application/vnd.jupyter.widget-view+json": {
       "model_id": "022a901e254e4db8aa998153556c3c60",
       "version_major": 2,
       "version_minor": 0
      },
      "text/plain": [
       "  0%|          | 0/400 [00:00<?, ?it/s]"
      ]
     },
     "metadata": {},
     "output_type": "display_data"
    },
    {
     "data": {
      "application/vnd.jupyter.widget-view+json": {
       "model_id": "b216c4c518934ef0b686782d84eb214f",
       "version_major": 2,
       "version_minor": 0
      },
      "text/plain": [
       "  0%|          | 0/439 [00:00<?, ?it/s]"
      ]
     },
     "metadata": {},
     "output_type": "display_data"
    },
    {
     "data": {
      "application/vnd.jupyter.widget-view+json": {
       "model_id": "c9a0dfa6d3dc4b47b490cbab5fffc36f",
       "version_major": 2,
       "version_minor": 0
      },
      "text/plain": [
       "  0%|          | 0/5 [00:00<?, ?it/s]"
      ]
     },
     "metadata": {},
     "output_type": "display_data"
    },
    {
     "data": {
      "application/vnd.jupyter.widget-view+json": {
       "model_id": "9c84bff320304b8e89c2a0a5e7c2de35",
       "version_major": 2,
       "version_minor": 0
      },
      "text/plain": [
       "  0%|          | 0/400 [00:00<?, ?it/s]"
      ]
     },
     "metadata": {},
     "output_type": "display_data"
    },
    {
     "data": {
      "application/vnd.jupyter.widget-view+json": {
       "model_id": "92bd4c54cd174d15a1c13bad5b0852ff",
       "version_major": 2,
       "version_minor": 0
      },
      "text/plain": [
       "  0%|          | 0/439 [00:00<?, ?it/s]"
      ]
     },
     "metadata": {},
     "output_type": "display_data"
    },
    {
     "data": {
      "application/vnd.jupyter.widget-view+json": {
       "model_id": "bc1f24af72fa44d3b206b3714d80f867",
       "version_major": 2,
       "version_minor": 0
      },
      "text/plain": [
       "  0%|          | 0/400 [00:00<?, ?it/s]"
      ]
     },
     "metadata": {},
     "output_type": "display_data"
    },
    {
     "data": {
      "application/vnd.jupyter.widget-view+json": {
       "model_id": "f50cb7031aa34c2f8eb76c6bc8e65524",
       "version_major": 2,
       "version_minor": 0
      },
      "text/plain": [
       "  0%|          | 0/439 [00:00<?, ?it/s]"
      ]
     },
     "metadata": {},
     "output_type": "display_data"
    },
    {
     "data": {
      "application/vnd.jupyter.widget-view+json": {
       "model_id": "bfd4a70a09734bb7ad78afd9ec04c63d",
       "version_major": 2,
       "version_minor": 0
      },
      "text/plain": [
       "  0%|          | 0/400 [00:00<?, ?it/s]"
      ]
     },
     "metadata": {},
     "output_type": "display_data"
    },
    {
     "data": {
      "application/vnd.jupyter.widget-view+json": {
       "model_id": "d04c027c7e1e46f18bd4caf169cc625b",
       "version_major": 2,
       "version_minor": 0
      },
      "text/plain": [
       "  0%|          | 0/439 [00:00<?, ?it/s]"
      ]
     },
     "metadata": {},
     "output_type": "display_data"
    },
    {
     "data": {
      "application/vnd.jupyter.widget-view+json": {
       "model_id": "fd84948e37954143ae25b2220302f82e",
       "version_major": 2,
       "version_minor": 0
      },
      "text/plain": [
       "  0%|          | 0/400 [00:00<?, ?it/s]"
      ]
     },
     "metadata": {},
     "output_type": "display_data"
    },
    {
     "data": {
      "application/vnd.jupyter.widget-view+json": {
       "model_id": "5b98ea0e07bf4b2baf295e54e44dcc61",
       "version_major": 2,
       "version_minor": 0
      },
      "text/plain": [
       "  0%|          | 0/439 [00:00<?, ?it/s]"
      ]
     },
     "metadata": {},
     "output_type": "display_data"
    },
    {
     "data": {
      "application/vnd.jupyter.widget-view+json": {
       "model_id": "d599a29abfb74ab993f9fea43cac2418",
       "version_major": 2,
       "version_minor": 0
      },
      "text/plain": [
       "  0%|          | 0/400 [00:00<?, ?it/s]"
      ]
     },
     "metadata": {},
     "output_type": "display_data"
    },
    {
     "data": {
      "application/vnd.jupyter.widget-view+json": {
       "model_id": "6d7c401a494a4be8b5d9a698d7bc277a",
       "version_major": 2,
       "version_minor": 0
      },
      "text/plain": [
       "  0%|          | 0/439 [00:00<?, ?it/s]"
      ]
     },
     "metadata": {},
     "output_type": "display_data"
    },
    {
     "data": {
      "application/vnd.jupyter.widget-view+json": {
       "model_id": "5aa98e2b4ed849bfb7c9d9af9afd5142",
       "version_major": 2,
       "version_minor": 0
      },
      "text/plain": [
       "  0%|          | 0/5 [00:00<?, ?it/s]"
      ]
     },
     "metadata": {},
     "output_type": "display_data"
    },
    {
     "data": {
      "application/vnd.jupyter.widget-view+json": {
       "model_id": "7b33351fab6c4af092d7caa3042930e9",
       "version_major": 2,
       "version_minor": 0
      },
      "text/plain": [
       "  0%|          | 0/400 [00:00<?, ?it/s]"
      ]
     },
     "metadata": {},
     "output_type": "display_data"
    },
    {
     "data": {
      "application/vnd.jupyter.widget-view+json": {
       "model_id": "59c802ec6aeb4e4190e7982e773b6406",
       "version_major": 2,
       "version_minor": 0
      },
      "text/plain": [
       "  0%|          | 0/439 [00:00<?, ?it/s]"
      ]
     },
     "metadata": {},
     "output_type": "display_data"
    },
    {
     "data": {
      "application/vnd.jupyter.widget-view+json": {
       "model_id": "42039bd923db4005b536d71403a14a52",
       "version_major": 2,
       "version_minor": 0
      },
      "text/plain": [
       "  0%|          | 0/400 [00:00<?, ?it/s]"
      ]
     },
     "metadata": {},
     "output_type": "display_data"
    },
    {
     "data": {
      "application/vnd.jupyter.widget-view+json": {
       "model_id": "39af1fc06a3d49abba636a962f2b0f67",
       "version_major": 2,
       "version_minor": 0
      },
      "text/plain": [
       "  0%|          | 0/439 [00:00<?, ?it/s]"
      ]
     },
     "metadata": {},
     "output_type": "display_data"
    },
    {
     "data": {
      "application/vnd.jupyter.widget-view+json": {
       "model_id": "015dc30927d243cab9a69f0a94bb931c",
       "version_major": 2,
       "version_minor": 0
      },
      "text/plain": [
       "  0%|          | 0/400 [00:00<?, ?it/s]"
      ]
     },
     "metadata": {},
     "output_type": "display_data"
    },
    {
     "data": {
      "application/vnd.jupyter.widget-view+json": {
       "model_id": "dc51e93e53664f81a39566eb5fe52857",
       "version_major": 2,
       "version_minor": 0
      },
      "text/plain": [
       "  0%|          | 0/439 [00:00<?, ?it/s]"
      ]
     },
     "metadata": {},
     "output_type": "display_data"
    },
    {
     "data": {
      "application/vnd.jupyter.widget-view+json": {
       "model_id": "673d0ac7730c4b61965af250eac0ee59",
       "version_major": 2,
       "version_minor": 0
      },
      "text/plain": [
       "  0%|          | 0/400 [00:00<?, ?it/s]"
      ]
     },
     "metadata": {},
     "output_type": "display_data"
    },
    {
     "data": {
      "application/vnd.jupyter.widget-view+json": {
       "model_id": "02f0089345db4ef488900041f9ae6bd3",
       "version_major": 2,
       "version_minor": 0
      },
      "text/plain": [
       "  0%|          | 0/439 [00:00<?, ?it/s]"
      ]
     },
     "metadata": {},
     "output_type": "display_data"
    },
    {
     "data": {
      "application/vnd.jupyter.widget-view+json": {
       "model_id": "a2944d8818bf4c25b14e7d2697bc39e0",
       "version_major": 2,
       "version_minor": 0
      },
      "text/plain": [
       "  0%|          | 0/400 [00:00<?, ?it/s]"
      ]
     },
     "metadata": {},
     "output_type": "display_data"
    },
    {
     "data": {
      "application/vnd.jupyter.widget-view+json": {
       "model_id": "b96864fd893542d9af4aa224d858580a",
       "version_major": 2,
       "version_minor": 0
      },
      "text/plain": [
       "  0%|          | 0/439 [00:00<?, ?it/s]"
      ]
     },
     "metadata": {},
     "output_type": "display_data"
    }
   ],
   "source": [
    "fpr = {}\n",
    "fre = {}\n",
    "ff1 = {}\n",
    "LOOPS = 5\n",
    "\n",
    "for TOP_K in tqdm([1, 2, 3, 5, 10]):\n",
    "\n",
    "    EXP_ID = uuid.uuid4().hex\n",
    "    \n",
    "    prs = []\n",
    "    res = []\n",
    "    f1s = []\n",
    "\n",
    "    for _ in tqdm(range(LOOPS)):\n",
    "\n",
    "        # Setup trustworthiness\n",
    "        trustworthy_features_list = random.sample(range(data.x.shape[1]), k=int(data.x.shape[1] * 0.7))\n",
    "        untrustworthy_features_list = [i for i in range(data.x.shape[1]) if i not in trustworthy_features_list]\n",
    "\n",
    "        untrustworthy_features = copy.deepcopy(data.x)\n",
    "        untrustworthy_features[:,untrustworthy_features_list] = 0\n",
    "\n",
    "        untrustworthy_features_data = tgData(\n",
    "            x=untrustworthy_features,\n",
    "            y=data.y,\n",
    "            train_mask=data.train_mask,\n",
    "            val_mask=data.val_mask,\n",
    "            test_mask=data.test_mask,\n",
    "            edge_index=data.edge_index\n",
    "        )\n",
    "\n",
    "        # Train model\n",
    "        hparams = {\n",
    "            'input_dim': data.num_node_features,\n",
    "            'hidden_dim': 16,\n",
    "            'output_dim': max(untrustworthy_features_data.y).item() + 1\n",
    "        }\n",
    "        \n",
    "        MODEL_NAME = f'{LANGUAGE}_{MODALITY}_trustworthy_batch'\n",
    "\n",
    "\n",
    "        model = GAT(**hparams).double()\n",
    "\n",
    "        lr = 0.005\n",
    "        epochs = 400\n",
    "\n",
    "        model.train()\n",
    "        optimizer = optim.Adam(model.parameters(), lr=lr)\n",
    "\n",
    "        f1_score = tm.classification.f_beta.F1Score(task='multiclass', num_classes=2, average='none')\n",
    "        best_f1macro = -1\n",
    "\n",
    "        for epoch in tqdm(range(epochs)):\n",
    "            optimizer.zero_grad()\n",
    "            \n",
    "            output = model(data.x, data.edge_index)\n",
    "            loss = F.nll_loss(output[data.train_mask], data.y[data.train_mask])\n",
    "            \n",
    "            loss.backward()\n",
    "            optimizer.step()\n",
    "            \n",
    "            f1 = f1_score(output[data.train_mask], data.y[data.train_mask])\n",
    "            f1macro = torch.mean(f1)\n",
    "\n",
    "            if f1macro > best_f1macro:\n",
    "                best_f1macro = f1macro\n",
    "                torch.save(model.state_dict(), f'./data/models/{MODEL_NAME}.pth')\n",
    "\n",
    "        # Load best model\n",
    "        model = GAT(**hparams).double()\n",
    "        model.load_state_dict(torch.load(f'./data/models/{MODEL_NAME}.pth'))\n",
    "        model.eval()\n",
    "\n",
    "        # Eval explainability\n",
    "        graphlime = GraphLIME(model, hop=2, rho=0.1, cached=True)\n",
    "\n",
    "        # # all nodes predictions\n",
    "        # original_preds = torch.argmax(model(data.x, data.edge_index).exp(), dim=1)\n",
    "        # untrustworthy_preds = torch.argmax(model(untrustworthy_features_data.x, untrustworthy_features_data.edge_index).exp(), dim=1)\n",
    "        # nodes_set = range(untrustworthy_features_data.x.shape[0])\n",
    "\n",
    "        # filter test nodes predictions\n",
    "        original_preds = torch.argmax(model(data.x, data.edge_index)[data.test_mask].exp(), dim=1)\n",
    "        untrustworthy_preds = torch.argmax(model(untrustworthy_features_data.x, untrustworthy_features_data.edge_index)[untrustworthy_features_data.test_mask].exp(), dim=1)\n",
    "        nodes_set = np.where(untrustworthy_features_data.test_mask == True)[0]\n",
    "\n",
    "        # f1 = tm.classification.BinaryF1Score()(untrustworthy_preds, original_preds)\n",
    "        # pre = tm.classification.BinaryPrecision()(untrustworthy_preds, original_preds)\n",
    "        # rec = tm.classification.BinaryRecall()(untrustworthy_preds, original_preds)\n",
    "        # print(f1, pre, rec)\n",
    "\n",
    "        trust_preds = original_preds == untrustworthy_preds # True if trustworthy, False if untrustworthy | l_i in paper oracle\n",
    "        mistrust_preds = original_preds != untrustworthy_preds # False if trustworthy, True if untrustworthy | l_i in paper oracle\n",
    "\n",
    "        mistrust_idx = np.argwhere(untrustworthy_preds != original_preds).flatten()\n",
    "        shouldnt_trust = set(mistrust_idx)\n",
    "        mistrust = set()\n",
    "        trust = set()\n",
    "        trust_fn = lambda prev, curr: (prev > 0.5 and curr > 0.5) or (prev <= 0.5 and curr <= 0.5)\n",
    "        trust_fn_all = lambda exp, unt: len([x[0] for x in exp if x[0] in unt]) == 0\n",
    "\n",
    "        #####\n",
    "        #####\n",
    "        #####\n",
    "\n",
    "        for node_idx in tqdm(nodes_set):\n",
    "            node_idx = int(node_idx)\n",
    "            coefs_original = graphlime.explain_node(node_idx, data.x, data.edge_index)\n",
    "            feat_indices_original = coefs_original.argsort()[-TOP_K:]\n",
    "            feat_indices_original = [idx for idx in feat_indices_original if coefs_original[idx] > 0.0]\n",
    "\n",
    "            prev_tot = model(data.x, data.edge_index).exp()[node_idx]\n",
    "            prev_tot2 = sum(coefs_original) + sum(coefs_original)/len(coefs_original)\n",
    "            tot = prev_tot2 - sum(coefs_original[i] for i in feat_indices_original if i in untrustworthy_features_list)\n",
    "            trust.add(node_idx) if trust_fn(tot, max(prev_tot)) else mistrust.add(node_idx)\n",
    "\n",
    "        false_positives = set(trust).intersection(shouldnt_trust)\n",
    "        true_positives = set(trust).difference(shouldnt_trust)\n",
    "        false_negatives = set(mistrust).difference(shouldnt_trust)\n",
    "        true_negatives = set(mistrust).intersection(shouldnt_trust)\n",
    "\n",
    "        temp = len(true_positives) + len(false_positives)\n",
    "        pr = len(true_positives) / temp if temp > 0 else 0\n",
    "        \n",
    "        temp = len(true_positives) + len(false_negatives)\n",
    "        re = len(true_positives) / temp if temp > 0 else 0\n",
    "        \n",
    "        temp = pr + re\n",
    "        f1 = 2 * (pre * re) / temp if temp > 0 else 0\n",
    "\n",
    "        prs.append(pr)\n",
    "        res.append(re)\n",
    "        f1s.append(f1)\n",
    "    \n",
    "    fpr[TOP_K] = sum(prs)/len(prs)\n",
    "    fre[TOP_K] = sum(res)/len(res)\n",
    "    ff1[TOP_K] = sum(f1s)/len(f1s)\n",
    "\n",
    "    try:\n",
    "        with open('./data/results/trustworthiness-v1-batch-jupyter.json', 'r') as f:\n",
    "            trustworthiness_dict = json.load(f)\n",
    "    except:\n",
    "        trustworthiness_dict = {}\n",
    "    finally:\n",
    "        with open('./data/results/trustworthiness-v1-batch-jupyter.json', 'w') as f:\n",
    "            trustworthiness_dict[EXP_ID] = {\n",
    "                'TOPK': TOP_K,\n",
    "                'LOOPS': LOOPS,\n",
    "                'modality': MODALITY,\n",
    "                'language': LANGUAGE,\n",
    "                'text_dim': TEXT_DIM,\n",
    "                'pr': fpr[TOP_K],\n",
    "                're': fre[TOP_K],\n",
    "                'f1': float(ff1[TOP_K])\n",
    "            }\n",
    "            json.dump(trustworthiness_dict, f)"
   ]
  },
  {
   "cell_type": "code",
   "execution_count": null,
   "metadata": {},
   "outputs": [],
   "source": []
  }
 ],
 "metadata": {
  "kernelspec": {
   "display_name": "Python 3.8.13 ('melll')",
   "language": "python",
   "name": "python3"
  },
  "language_info": {
   "codemirror_mode": {
    "name": "ipython",
    "version": 3
   },
   "file_extension": ".py",
   "mimetype": "text/x-python",
   "name": "python",
   "nbconvert_exporter": "python",
   "pygments_lexer": "ipython3",
   "version": "3.10.11"
  },
  "orig_nbformat": 4,
  "vscode": {
   "interpreter": {
    "hash": "be8229d8c53a846cb6a0684c036bbbb9278b7b274400c064f315ff8f5b01068c"
   }
  }
 },
 "nbformat": 4,
 "nbformat_minor": 2
}
